{
  "cells": [
    {
      "cell_type": "markdown",
      "metadata": {
        "id": "view-in-github",
        "colab_type": "text"
      },
      "source": [
        "<a href=\"https://colab.research.google.com/github/PkHeris/Python_For_Engineers/blob/main/02_Numerical_Arrays%2C_Slicing%2C_and_simple_functions.ipynb\" target=\"_parent\"><img src=\"https://colab.research.google.com/assets/colab-badge.svg\" alt=\"Open In Colab\"/></a>"
      ]
    },
    {
      "cell_type": "markdown",
      "source": [
        "# Import Libraries\n",
        "\n",
        "To streamline the coding process, certain libraries must be imported. Specifically, the NumPy library, a fundamental package for scientific computing in Python, will be imported with the alias 'np' for convenience."
      ],
      "metadata": {
        "id": "y69-sL9MJmkS"
      }
    },
    {
      "cell_type": "code",
      "execution_count": 1,
      "metadata": {
        "id": "lObXeumeBD1T"
      },
      "outputs": [],
      "source": [
        "import numpy as np"
      ]
    },
    {
      "cell_type": "markdown",
      "metadata": {
        "id": "Smi3gRtWSGGP"
      },
      "source": [
        "\n",
        "## Creating Arrays of Different Dimensions\n",
        "\n",
        "Creating arrays of different dimensions is a fundamental operation in numerical computing. With NumPy's `np.array()` function, you can create arrays with any number of dimensions.\n",
        "\n",
        "\n",
        "| Dimension | Example               | Description  |\n",
        "|-----------|-----------------------|--------------|\n",
        "| 0-D       | `np.array(value)`     | Single value |\n",
        "| 1-D       | `np.array([v1, v2])`  | Vector       |\n",
        "| 2-D       | `np.array([[r1], [r2]])`| Matrix     |\n",
        "| 3-D       | `np.array([[[Mr1], [Mrr1]], [Mr2, Mrr2]])`| Collection of matrices |\n",
        "\n",
        "- `Dimension = A.ndim` will give the number of dimensions of the array `A`.\n",
        "- `[depth, row, col] = A.shape` will give the number of rows and columns for 3-D arrays, or more generally, the size of each dimension.\n",
        "\n",
        "These examples demonstrate the flexibility of NumPy in handling multi-dimensional data, allowing for complex computations and data manipulations.\n"
      ]
    },
    {
      "cell_type": "code",
      "execution_count": 2,
      "metadata": {
        "scrolled": true,
        "id": "d5lOm92JBD1X",
        "outputId": "9ca12b45-1afd-4450-805f-550a73f7fcfb",
        "colab": {
          "base_uri": "https://localhost:8080/"
        }
      },
      "outputs": [
        {
          "output_type": "stream",
          "name": "stdout",
          "text": [
            "For B: row = 4 and col = 3\n",
            "[[   1    2    3]\n",
            " [  10   20   30]\n",
            " [ 100  200  300]\n",
            " [1000 2000 3000]]\n",
            "Number of elements inside B is equal to 12\n"
          ]
        }
      ],
      "source": [
        "# Creating a 2D array B with specific values\n",
        "B = np.array([[1 , 2, 3],[10, 20, 30],[100, 200, 300],[1000, 2000, 3000]])\n",
        "\n",
        "# Getting the shape of B (number of rows and columns)\n",
        "[r_B, c_B] = B.shape\n",
        "\n",
        "# Printing the number of rows and columns\n",
        "print('For B: row = {} and col = {}'.format(r_B,c_B))\n",
        "\n",
        "# Printing the entire array\n",
        "print(B)\n",
        "\n",
        "# Printing the total number of elements in B\n",
        "print(\"Number of elements inside B is equal to {}\".format(r_B*c_B))"
      ]
    },
    {
      "cell_type": "markdown",
      "metadata": {
        "id": "7JSQaKUzBD1Y"
      },
      "source": [
        "\n",
        "# Matrix M, Transpose, and Slicing\n",
        "\n",
        "Matrices are key structures in linear algebra and various scientific applications. Here's an overview of some fundamental matrix operations and concepts:\n",
        "\n",
        "- **Matrix M**\n",
        "The matrix `M` can be represented as a 3x2 matrix:\n",
        "$$M = \\begin{bmatrix} M_{0,0} & M_{0,1} \\\\ M_{1,0} & M_{1,1} \\\\ M_{2,0} & M_{2,1} \\end{bmatrix}_{ 3\\times2}$$\n",
        "\n",
        "- **Matrix M Transposed**\n",
        "Transposing a matrix involves swapping its rows with columns. You can transpose matrix `M` using the `M.transpose(*axes)` method, resulting in:\n",
        "$$M^T = \\begin{bmatrix} M_{0,0} & M_{1,0} & M_{2,0} \\\\ M_{0,1} & M_{1,1} & M_{2,1} \\end{bmatrix}_{ 2\\times3}$$\n",
        "\n",
        "These operations are essential when working with matrices, as they form the basis for more advanced computations and analyses.\n"
      ]
    },
    {
      "cell_type": "code",
      "execution_count": 3,
      "metadata": {
        "id": "vWHQonMxBD1Y",
        "outputId": "32e6bf52-c2ef-4b33-e2cd-d2fbf9bb1874",
        "colab": {
          "base_uri": "https://localhost:8080/"
        }
      },
      "outputs": [
        {
          "output_type": "stream",
          "name": "stdout",
          "text": [
            "For B Transposed: row = 3 and col = 4\n",
            "[[   1   10  100 1000]\n",
            " [   2   20  200 2000]\n",
            " [   3   30  300 3000]]\n"
          ]
        }
      ],
      "source": [
        "# Transposing the previously defined array B\n",
        "B_T = B.transpose()\n",
        "\n",
        "# Getting the shape of the transposed array (number of rows and columns)\n",
        "[r_BT, c_BT] = B_T.shape\n",
        "\n",
        "# Printing the number of rows and columns for the transposed array\n",
        "print('For B Transposed: row = {} and col = {}'.format(r_BT,c_BT))\n",
        "\n",
        "# Printing the entire transposed array\n",
        "print(B_T)\n"
      ]
    },
    {
      "cell_type": "code",
      "source": [
        "print(\"B:\")\n",
        "print(B)\n",
        "print(\"\\nB_T:\")\n",
        "print(B_T)\n",
        "print(\"\\nShapes:\")\n",
        "print('B: {}x{} | B_T: {}x{}'.format(r_B, c_B, r_BT, c_BT))"
      ],
      "metadata": {
        "colab": {
          "base_uri": "https://localhost:8080/"
        },
        "id": "s2DxfMdjrJyS",
        "outputId": "693c9ae8-7877-4740-a1b2-ab2dce58331e"
      },
      "execution_count": 4,
      "outputs": [
        {
          "output_type": "stream",
          "name": "stdout",
          "text": [
            "B:\n",
            "[[   1    2    3]\n",
            " [  10   20   30]\n",
            " [ 100  200  300]\n",
            " [1000 2000 3000]]\n",
            "\n",
            "B_T:\n",
            "[[   1   10  100 1000]\n",
            " [   2   20  200 2000]\n",
            " [   3   30  300 3000]]\n",
            "\n",
            "Shapes:\n",
            "B: 4x3 | B_T: 3x4\n"
          ]
        }
      ]
    },
    {
      "cell_type": "markdown",
      "source": [
        "# Array Slicing\n",
        "\n",
        "Slicing is a powerful feature in Python that enables the extraction of specific portions from arrays, whether they are one-dimensional (1D), two-dimensional (2D), or three-dimensional (3D). This concept is commonly utilized in data manipulation, allowing for precise control and access to elements within arrays. With the help of slicing, you can easily select individual elements, rows, columns, or even multidimensional subsections. In the following sections, we will explore the specific techniques and applications of slicing in 1D, 2D, and 3D arrays, highlighting their unique characteristics and use cases.\n",
        "\n",
        "<img src=\"https://github.com/PkHeris/Python_For_Engineers/blob/main/02/Images/Axis.jpg?raw=true\" alt=\"axis\"/>\n",
        "\n"
      ],
      "metadata": {
        "id": "ks0kIf9ZuEWF"
      }
    },
    {
      "cell_type": "markdown",
      "source": [
        "## 1D Slicing\n",
        "\n",
        "In one-dimensional arrays, slicing provides a way to access, modify, or even copy specific elements within the array. It allows for great flexibility and efficient handling of the array's data. Various slicing techniques can be applied to 1D arrays, and these techniques are summarized in the following table:\n",
        "\n",
        "| Style               | Description                                      |\n",
        "|---------------------|--------------------------------------------------|\n",
        "| `a[pos#]`           | The element at the specified index `pos#`        |\n",
        "| `a[start:stop]`     | Elements from index `start` to `stop-1`          |\n",
        "| `a[start:]`         | Elements from index `start` to the end           |\n",
        "| `a[:stop]`          | Elements from the beginning to `stop-1`          |\n",
        "| `a[:]`              | An identical copy of the array                   |\n",
        "| `a[start:stop:step]`| Elements from `start`, following `step`, up to `stop` (exclusive) |\n",
        "| `a[-1]`             | The last item                                    |\n",
        "| `a[-2:]`            | From the second-to-last position to the end      |\n",
        "| `a[:-2]`            | All items except the last two                    |\n",
        "| `a[::-1]`           | Reverse of the array                             |\n",
        "| `a[1::-1]`          | The first two items, reversed                    |\n",
        "| `a[:-3:-1]`         | The last two items, reversed                     |\n",
        "| `a[-3::-1]`         | Everything except the last two items, reversed   |\n",
        "\n",
        "These techniques allow for robust manipulation and handling of 1D data structures, enabling precise control over the array's elements.\n",
        "\n",
        "<img src=\"https://github.com/PkHeris/Python_For_Engineers/blob/main/02/Images/Slicing.png?raw=true\" alt=\"1D,My Name\" width=\"90%\" height=\"90%\"/>"
      ],
      "metadata": {
        "id": "5sAud7N4tuOc"
      }
    },
    {
      "cell_type": "code",
      "execution_count": 5,
      "metadata": {
        "colab": {
          "base_uri": "https://localhost:8080/"
        },
        "id": "g2_o4Ph1BD1Z",
        "outputId": "0d504b8c-aa75-4d72-af26-8c85139334d5"
      },
      "outputs": [
        {
          "output_type": "stream",
          "name": "stdout",
          "text": [
            "['P' 'O' 'O' 'R' 'I' 'Y' 'A']\n",
            "Number of element in A = 7\n"
          ]
        }
      ],
      "source": [
        "A = np.array(['P','O','O','R','I','Y','A'])\n",
        "print(A)\n",
        "print('Number of element in A = {}'.format(len(A)))"
      ]
    },
    {
      "cell_type": "markdown",
      "source": [
        "### The specific index\n",
        "| Style               | Description                                      |\n",
        "|---------------------|--------------------------------------------------|\n",
        "| `a[pos#]`           | The element at the specified index `pos#`        |"
      ],
      "metadata": {
        "id": "J5Ernte0wLnR"
      }
    },
    {
      "cell_type": "code",
      "source": [
        "A[5]"
      ],
      "metadata": {
        "colab": {
          "base_uri": "https://localhost:8080/",
          "height": 35
        },
        "id": "aM10DcSKwDuA",
        "outputId": "d68889d9-e45b-4a41-bbcd-4a9defa8995c"
      },
      "execution_count": 6,
      "outputs": [
        {
          "output_type": "execute_result",
          "data": {
            "text/plain": [
              "'Y'"
            ],
            "application/vnd.google.colaboratory.intrinsic+json": {
              "type": "string"
            }
          },
          "metadata": {},
          "execution_count": 6
        }
      ]
    },
    {
      "cell_type": "code",
      "source": [
        "A[-2]"
      ],
      "metadata": {
        "colab": {
          "base_uri": "https://localhost:8080/",
          "height": 35
        },
        "id": "e0Z67D-j5TgQ",
        "outputId": "c1dd8ac8-a094-49a1-bdc5-0d7bf7f35837"
      },
      "execution_count": 8,
      "outputs": [
        {
          "output_type": "execute_result",
          "data": {
            "text/plain": [
              "'Y'"
            ],
            "application/vnd.google.colaboratory.intrinsic+json": {
              "type": "string"
            }
          },
          "metadata": {},
          "execution_count": 8
        }
      ]
    },
    {
      "cell_type": "markdown",
      "metadata": {
        "id": "XsqkMDyfBD1a"
      },
      "source": [
        "### From start to (stop-1), i.e., the first 3 elements\n",
        "| Style               | Description                                      |\n",
        "|---------------------|--------------------------------------------------|\n",
        "| `a[start:stop]`     | Elements from index `start` to `stop-1`          |"
      ]
    },
    {
      "cell_type": "code",
      "execution_count": 7,
      "metadata": {
        "id": "ReY_EXhmBD1a",
        "outputId": "dc5d5b59-49ac-4275-812a-086c51352437",
        "colab": {
          "base_uri": "https://localhost:8080/"
        }
      },
      "outputs": [
        {
          "output_type": "stream",
          "name": "stdout",
          "text": [
            "['P' 'O' 'O' 'R' 'I' 'Y' 'A']\n"
          ]
        },
        {
          "output_type": "execute_result",
          "data": {
            "text/plain": [
              "array(['P', 'O', 'O'], dtype='<U1')"
            ]
          },
          "metadata": {},
          "execution_count": 7
        }
      ],
      "source": [
        "print(A)\n",
        "A[0:3] #+indexing"
      ]
    },
    {
      "cell_type": "markdown",
      "source": [
        "### Negetive indexing, from start to (stop-1)"
      ],
      "metadata": {
        "id": "WMiCWeDaTcY0"
      }
    },
    {
      "cell_type": "code",
      "execution_count": 10,
      "metadata": {
        "id": "uWpm7Zt7BD1a",
        "outputId": "dd00fa3b-e19b-4daf-a4ad-ed2f28267cd9",
        "colab": {
          "base_uri": "https://localhost:8080/"
        }
      },
      "outputs": [
        {
          "output_type": "stream",
          "name": "stdout",
          "text": [
            "['P' 'O' 'O' 'R' 'I' 'Y' 'A']\n"
          ]
        },
        {
          "output_type": "execute_result",
          "data": {
            "text/plain": [
              "array(['R', 'I'], dtype='<U1')"
            ]
          },
          "metadata": {},
          "execution_count": 10
        }
      ],
      "source": [
        "print(A)\n",
        "# print(np.arange(8))\n",
        "A[-4:-2] #-indexing"
      ]
    },
    {
      "cell_type": "markdown",
      "metadata": {
        "id": "omR5HFVjBD1a"
      },
      "source": [
        "### From start to the end\n",
        "| Style               | Description                                      |\n",
        "|---------------------|--------------------------------------------------|\n",
        "| `a[start:]`         | Elements from index `start` to the `end+1`           |\n"
      ]
    },
    {
      "cell_type": "code",
      "execution_count": 12,
      "metadata": {
        "colab": {
          "base_uri": "https://localhost:8080/"
        },
        "id": "rr9_GYqnBD1b",
        "outputId": "a765d690-caee-424a-c1e9-d6b292a2c445"
      },
      "outputs": [
        {
          "output_type": "stream",
          "name": "stdout",
          "text": [
            "['P' 'O' 'O' 'R' 'I' 'Y' 'A']\n",
            "[0 1 2 3 4 5 6 7]\n"
          ]
        },
        {
          "output_type": "execute_result",
          "data": {
            "text/plain": [
              "array(['O', 'R', 'I', 'Y', 'A'], dtype='<U1')"
            ]
          },
          "metadata": {},
          "execution_count": 12
        }
      ],
      "source": [
        "print(A)\n",
        "print(np.arange(8))\n",
        "A[2:]"
      ]
    },
    {
      "cell_type": "markdown",
      "metadata": {
        "id": "_yahXeVlBD1b"
      },
      "source": [
        "### From the beginning to (stop-1), i.e., all but the last 2 elements\n",
        "| Style               | Description                                      |\n",
        "|---------------------|--------------------------------------------------|\n",
        "| `a[:stop]`          | Elements from the beginning to `stop-1`          |\n"
      ]
    },
    {
      "cell_type": "code",
      "execution_count": 14,
      "metadata": {
        "id": "W7CItybnBD1b",
        "outputId": "45afad86-779d-48c4-d7ab-af31209c97bb",
        "colab": {
          "base_uri": "https://localhost:8080/"
        }
      },
      "outputs": [
        {
          "output_type": "stream",
          "name": "stdout",
          "text": [
            "['P' 'O' 'O' 'R' 'I' 'Y' 'A']\n",
            "[0 1 2 3 4 5 6 7]\n"
          ]
        },
        {
          "output_type": "execute_result",
          "data": {
            "text/plain": [
              "array(['P', 'O', 'O', 'R', 'I'], dtype='<U1')"
            ]
          },
          "metadata": {},
          "execution_count": 14
        }
      ],
      "source": [
        "print(A)\n",
        "print(np.arange(8))\n",
        "A[:5]"
      ]
    },
    {
      "cell_type": "markdown",
      "source": [
        "### Identical copy of the array\n",
        "\n",
        "| Style               | Description                                      |\n",
        "|---------------------|--------------------------------------------------|\n",
        "| `a[:]`              | An identical copy of the array                   |\n"
      ],
      "metadata": {
        "id": "j63c_-0XUbT7"
      }
    },
    {
      "cell_type": "code",
      "source": [
        "print(A)\n",
        "B = A[:]\n",
        "print(B)"
      ],
      "metadata": {
        "id": "4nkiXMGKUby8",
        "colab": {
          "base_uri": "https://localhost:8080/"
        },
        "outputId": "7c215b03-b5ec-440d-cc48-196f92baaa45"
      },
      "execution_count": 15,
      "outputs": [
        {
          "output_type": "stream",
          "name": "stdout",
          "text": [
            "['P' 'O' 'O' 'R' 'I' 'Y' 'A']\n",
            "['P' 'O' 'O' 'R' 'I' 'Y' 'A']\n"
          ]
        }
      ]
    },
    {
      "cell_type": "markdown",
      "metadata": {
        "id": "QZ8JtHmbBD1b"
      },
      "source": [
        "### From start following step till stop, not passing stop (i.e., every 2nd element)\n",
        "\n",
        "| Style               | Description                                      |\n",
        "|---------------------|--------------------------------------------------|\n",
        "| `a[start:stop:step]`| Elements from `start`, following `step`, up to `stop` (exclusive) |\n"
      ]
    },
    {
      "cell_type": "code",
      "execution_count": 17,
      "metadata": {
        "id": "X7mBPRLtBD1b",
        "outputId": "420dbecc-b8c3-4cac-d913-2c4b59b24b88",
        "colab": {
          "base_uri": "https://localhost:8080/"
        }
      },
      "outputs": [
        {
          "output_type": "stream",
          "name": "stdout",
          "text": [
            "['P' 'O' 'O' 'R' 'I' 'Y' 'A']\n"
          ]
        },
        {
          "output_type": "execute_result",
          "data": {
            "text/plain": [
              "array(['P', 'O', 'I', 'A'], dtype='<U1')"
            ]
          },
          "metadata": {},
          "execution_count": 17
        }
      ],
      "source": [
        "print(A)\n",
        "A[0:7:2]"
      ]
    },
    {
      "cell_type": "code",
      "source": [
        "print(A)\n",
        "A[1:5:2] # Selecting elements starting from index 1 up to 5 but not including index 5, with a step size of 2\n"
      ],
      "metadata": {
        "id": "QuspvK0cVP6C",
        "colab": {
          "base_uri": "https://localhost:8080/"
        },
        "outputId": "bdb4c3c0-adcf-45ec-bb2b-ddd8bad89d57"
      },
      "execution_count": 18,
      "outputs": [
        {
          "output_type": "stream",
          "name": "stdout",
          "text": [
            "['P' 'O' 'O' 'R' 'I' 'Y' 'A']\n"
          ]
        },
        {
          "output_type": "execute_result",
          "data": {
            "text/plain": [
              "array(['O', 'R'], dtype='<U1')"
            ]
          },
          "metadata": {},
          "execution_count": 18
        }
      ]
    },
    {
      "cell_type": "code",
      "execution_count": 19,
      "metadata": {
        "id": "EHGXwCQNBD1b",
        "outputId": "35ce930b-1b23-424d-cf6e-8d4e03f37019",
        "colab": {
          "base_uri": "https://localhost:8080/"
        }
      },
      "outputs": [
        {
          "output_type": "stream",
          "name": "stdout",
          "text": [
            "['P' 'O' 'O' 'R' 'I' 'Y' 'A']\n"
          ]
        },
        {
          "output_type": "execute_result",
          "data": {
            "text/plain": [
              "array(['P', 'O', 'I'], dtype='<U1')"
            ]
          },
          "metadata": {},
          "execution_count": 19
        }
      ],
      "source": [
        "print(A)\n",
        "A[0:5:2] # Selecting elements starting from index 0 up to 5 but not including index 5, with a step size of 2"
      ]
    },
    {
      "cell_type": "markdown",
      "source": [
        "### Last item\n",
        "\n",
        "| Style               | Description                                      |\n",
        "|---------------------|--------------------------------------------------|\n",
        "| `a[-1]`             | The last item                                    |\n"
      ],
      "metadata": {
        "id": "E-4dbeG3WAaY"
      }
    },
    {
      "cell_type": "code",
      "source": [
        "print(A)\n",
        "A[-1]"
      ],
      "metadata": {
        "id": "_unHrm9kV6YJ",
        "colab": {
          "base_uri": "https://localhost:8080/",
          "height": 52
        },
        "outputId": "cb26466f-c83e-40ee-bc69-0d35843175f4"
      },
      "execution_count": 20,
      "outputs": [
        {
          "output_type": "stream",
          "name": "stdout",
          "text": [
            "['P' 'O' 'O' 'R' 'I' 'Y' 'A']\n"
          ]
        },
        {
          "output_type": "execute_result",
          "data": {
            "text/plain": [
              "'A'"
            ],
            "application/vnd.google.colaboratory.intrinsic+json": {
              "type": "string"
            }
          },
          "metadata": {},
          "execution_count": 20
        }
      ]
    },
    {
      "cell_type": "markdown",
      "metadata": {
        "id": "cnJRYHe7BD1b"
      },
      "source": [
        "### From position -2 to the end, i.e., the last 2 items\n",
        "| Style               | Description                                      |\n",
        "|---------------------|--------------------------------------------------|\n",
        "| `a[-2:]`            | From the second-to-last position to the `end+1`      |\n"
      ]
    },
    {
      "cell_type": "code",
      "execution_count": 21,
      "metadata": {
        "id": "HMhRVprcBD1c",
        "outputId": "ad4892be-edc4-4f0f-c009-6d0b5a187f19",
        "colab": {
          "base_uri": "https://localhost:8080/"
        }
      },
      "outputs": [
        {
          "output_type": "stream",
          "name": "stdout",
          "text": [
            "['P' 'O' 'O' 'R' 'I' 'Y' 'A']\n"
          ]
        },
        {
          "output_type": "execute_result",
          "data": {
            "text/plain": [
              "array(['Y', 'A'], dtype='<U1')"
            ]
          },
          "metadata": {},
          "execution_count": 21
        }
      ],
      "source": [
        "print(A)\n",
        "A[-2:]"
      ]
    },
    {
      "cell_type": "markdown",
      "metadata": {
        "id": "epIqrHokBD1c"
      },
      "source": [
        "### All the items except the last two positions\n",
        "| Style               | Description                                      |\n",
        "|---------------------|--------------------------------------------------|\n",
        "| `a[:-2]`            | All items except the last two                    |\n"
      ]
    },
    {
      "cell_type": "code",
      "execution_count": 22,
      "metadata": {
        "id": "TKcobALTBD1c",
        "outputId": "dea8b74d-47d3-4ead-c396-e80918a48171",
        "colab": {
          "base_uri": "https://localhost:8080/"
        }
      },
      "outputs": [
        {
          "output_type": "stream",
          "name": "stdout",
          "text": [
            "['P' 'O' 'O' 'R' 'I' 'Y' 'A']\n"
          ]
        },
        {
          "output_type": "execute_result",
          "data": {
            "text/plain": [
              "array(['P', 'O', 'O', 'R', 'I'], dtype='<U1')"
            ]
          },
          "metadata": {},
          "execution_count": 22
        }
      ],
      "source": [
        "print(A)\n",
        "A[:-2]"
      ]
    },
    {
      "cell_type": "markdown",
      "metadata": {
        "id": "VbbzKCXSBD1c"
      },
      "source": [
        "### Reverse of the array\n",
        "| Style               | Description                                      |\n",
        "|---------------------|--------------------------------------------------|\n",
        "| `a[::-1]`           | Reverse of the array                             |\n"
      ]
    },
    {
      "cell_type": "code",
      "execution_count": 23,
      "metadata": {
        "id": "yckQmkxzBD1c",
        "outputId": "bccfb9d6-49ee-4043-b968-aec81fd3ba3a",
        "colab": {
          "base_uri": "https://localhost:8080/"
        }
      },
      "outputs": [
        {
          "output_type": "stream",
          "name": "stdout",
          "text": [
            "['P' 'O' 'O' 'R' 'I' 'Y' 'A']\n"
          ]
        },
        {
          "output_type": "execute_result",
          "data": {
            "text/plain": [
              "array(['A', 'Y', 'I', 'R', 'O', 'O', 'P'], dtype='<U1')"
            ]
          },
          "metadata": {},
          "execution_count": 23
        }
      ],
      "source": [
        "print(A)\n",
        "A[::-1]"
      ]
    },
    {
      "cell_type": "markdown",
      "metadata": {
        "id": "dUtePMI9BD1c"
      },
      "source": [
        "### The first four items, reversed\n",
        "\n",
        "| Style               | Description                                      |\n",
        "|---------------------|--------------------------------------------------|\n",
        "| `a[1::-1]`          | The first two items, reversed                    |\n"
      ]
    },
    {
      "cell_type": "code",
      "source": [
        "print(A)\n",
        "A[1::-1] # Selecting elements starting from index 1 and reversing through the array up to the beginning\n"
      ],
      "metadata": {
        "colab": {
          "base_uri": "https://localhost:8080/"
        },
        "id": "0BmMw_KezYuK",
        "outputId": "76ac539b-0301-4baa-8a7f-b3aa57d4e5a7"
      },
      "execution_count": 26,
      "outputs": [
        {
          "output_type": "stream",
          "name": "stdout",
          "text": [
            "['P' 'O' 'O' 'R' 'I' 'Y' 'A']\n"
          ]
        },
        {
          "output_type": "execute_result",
          "data": {
            "text/plain": [
              "array(['O', 'P'], dtype='<U1')"
            ]
          },
          "metadata": {},
          "execution_count": 26
        }
      ]
    },
    {
      "cell_type": "code",
      "execution_count": 27,
      "metadata": {
        "id": "e9nGCyMVBD1c",
        "outputId": "8d8ef067-1015-4452-a46d-662ef9d137e8",
        "colab": {
          "base_uri": "https://localhost:8080/"
        }
      },
      "outputs": [
        {
          "output_type": "stream",
          "name": "stdout",
          "text": [
            "['P' 'O' 'O' 'R' 'I' 'Y' 'A']\n"
          ]
        },
        {
          "output_type": "execute_result",
          "data": {
            "text/plain": [
              "array(['R', 'O', 'O', 'P'], dtype='<U1')"
            ]
          },
          "metadata": {},
          "execution_count": 27
        }
      ],
      "source": [
        "print(A)\n",
        "A[3::-1] # Selecting elements starting from index 3 and reversing through the array up to the beginning\n"
      ]
    },
    {
      "cell_type": "markdown",
      "metadata": {
        "id": "sqlDTEPeBD1c"
      },
      "source": [
        "### The last two items, reversed\n",
        "\n",
        "\n",
        "| Style               | Description                                      |\n",
        "|---------------------|--------------------------------------------------|\n",
        "| `a[:-3:-1]`         | The last two items, reversed                     |\n",
        "\n",
        "  Selects the last two elements of the array by starting from the end (indicated by the -1 step), moving towards the beginning, and stopping before the third-to-last element (indicated by the -3 in the 'stop' position). The result is the last two elements of the array, reversed.\n",
        "\n",
        "  Here's a step-by-step breakdown:\n",
        "  - `:-3` means \"all but the last three elements.\"\n",
        "  The step value of `-1` means to step through the selected elements in reverse order.\n",
        "  - Since the slice starts from the end (because of the negative step value) and stops before the third-to-last element (because of the `:-3`), it selects the last two elements.\n",
        "  - The reversal just swaps those two elements, so the overall effect is to select and reverse the last two elements of the array.\n"
      ]
    },
    {
      "cell_type": "code",
      "execution_count": 28,
      "metadata": {
        "id": "o3MqIJGVBD1c",
        "outputId": "2e036b4c-1a40-4bbc-f68b-b5b11b36cf4b",
        "colab": {
          "base_uri": "https://localhost:8080/"
        }
      },
      "outputs": [
        {
          "output_type": "stream",
          "name": "stdout",
          "text": [
            "['P' 'O' 'O' 'R' 'I' 'Y' 'A']\n"
          ]
        },
        {
          "output_type": "execute_result",
          "data": {
            "text/plain": [
              "array(['A', 'Y'], dtype='<U1')"
            ]
          },
          "metadata": {},
          "execution_count": 28
        }
      ],
      "source": [
        "print(A)\n",
        "A[:-3:-1] # Selects the last two elements and reverses them. The \":-3\" part means \"all but the last three elements,\" and the \"-1\" step reverses the selected slice. Since only two elements are selected (the last two), the reversal just swaps them.\n"
      ]
    },
    {
      "cell_type": "markdown",
      "metadata": {
        "id": "zBWGzd4mBD1c"
      },
      "source": [
        "### Everything except the last two items, reversed\n",
        "\n",
        "\n",
        "| Style               | Description                                      |\n",
        "|---------------------|--------------------------------------------------|\n",
        "| `a[-3::-1]`         | Everything except the last two items, reversed   |\n",
        "\n",
        "Selects elements from the third-to-last (inclusive) to the beginning of the array, then reverses them. \"-3:\" means \"from the third-to-last to the beginning,\" and the step value of \"-1\" reverses the selected slice\n",
        "\n",
        "Here's the breakdown:\n",
        "\n",
        "- `[-3:]` means \"from the third-to-last element to the end.\" But since there's no ending index, and the step is `-1`, it goes all the way to the beginning of the array.\n",
        "- The `-1` step value means to step through the selected elements in reverse order, so the slice goes from the third-to-last element to the first, in reverse order.\n",
        "- The overall effect is to select the elements from the third-to-last (inclusive) to the beginning of the array and then reverse that slice.\n",
        "\n",
        "\n"
      ]
    },
    {
      "cell_type": "code",
      "execution_count": 29,
      "metadata": {
        "id": "l_l92KUPBD1c",
        "outputId": "1a4578c2-c478-4012-d82f-2881c16442e9",
        "colab": {
          "base_uri": "https://localhost:8080/"
        }
      },
      "outputs": [
        {
          "output_type": "stream",
          "name": "stdout",
          "text": [
            "['P' 'O' 'O' 'R' 'I' 'Y' 'A']\n"
          ]
        },
        {
          "output_type": "execute_result",
          "data": {
            "text/plain": [
              "array(['I', 'R', 'O', 'O', 'P'], dtype='<U1')"
            ]
          },
          "metadata": {},
          "execution_count": 29
        }
      ],
      "source": [
        "print(A)\n",
        "A[-3::-1] # Selects all elements from the third-to-last element to the beginning of the array, and then reverses that selection. The -3 in the 'start' position\n"
      ]
    },
    {
      "cell_type": "markdown",
      "source": [
        "## 2D Slicing\n",
        "For 2D arrays or matrices, slicing can be thought of as specifying a subset of rows and/or columns. It involves slicing along both dimensions: [row_slice, column_slice]. Each of the slices can follow the same rules as 1D slicing. For instance, to get the first two rows of a matrix, one would do `array[:2, :]`.\n",
        "\n",
        "<img src=\"https://github.com/PkHeris/Python_For_Engineers/blob/main/02/Images/Axis.jpg?raw=true\" alt=\"axis\"/>\n"
      ],
      "metadata": {
        "id": "7_G1s6r6djlQ"
      }
    },
    {
      "cell_type": "markdown",
      "metadata": {
        "id": "Lk2uwbsaBD1d"
      },
      "source": [
        "The slicing table works the same here\n",
        "\n",
        "| Style               | Description                                      |\n",
        "|---------------------|--------------------------------------------------|\n",
        "| `a[pos#]`           | The element at the specified index `pos#`        |\n",
        "| `a[start:stop]`     | Elements from index `start` to `stop-1`          |\n",
        "| `a[start:]`         | Elements from index `start` to the end           |\n",
        "| `a[:stop]`          | Elements from the beginning to `stop-1`          |\n",
        "| `a[:]`              | An identical copy of the array                   |\n",
        "| `a[start:stop:step]`| Elements from `start`, following `step`, up to `stop` (exclusive) |\n",
        "| `a[-1]`             | The last item                                    |\n",
        "| `a[-2:]`            | From the second-to-last position to the end      |\n",
        "| `a[:-2]`            | All items except the last two                    |\n",
        "| `a[::-1]`           | Reverse of the array                             |\n",
        "| `a[1::-1]`          | The first two items, reversed                    |\n",
        "| `a[:-3:-1]`         | The last two items, reversed                     |\n",
        "| `a[-3::-1]`         | Everything except the last two items, reversed   |"
      ]
    },
    {
      "cell_type": "code",
      "execution_count": 30,
      "metadata": {
        "id": "GKNrK9CzBD1c",
        "outputId": "93e45983-bfa4-4946-b1e3-b24a556433d0",
        "colab": {
          "base_uri": "https://localhost:8080/"
        }
      },
      "outputs": [
        {
          "output_type": "stream",
          "name": "stdout",
          "text": [
            "[[   1    2    3]\n",
            " [  10   20   30]\n",
            " [ 100  200  300]\n",
            " [1000 2000 3000]]\n"
          ]
        }
      ],
      "source": [
        "B = np.array([[1 , 2, 3],[10, 20, 30],[100, 200, 300],[1000, 2000, 3000]])\n",
        "print(B)"
      ]
    },
    {
      "cell_type": "markdown",
      "source": [
        "### 2D Single Element\n",
        "\n",
        "<img src=\"https://github.com/PkHeris/Python_For_Engineers/blob/main/02/Images/M2.png?raw=true\" alt=\"Single Element\" width=\"30%\" height=\"30%\"/>"
      ],
      "metadata": {
        "id": "jp30uYQl02VL"
      }
    },
    {
      "cell_type": "code",
      "execution_count": 31,
      "metadata": {
        "id": "17r65buTBD1d",
        "outputId": "c4550096-5a56-482b-a401-0f6c692ba078",
        "colab": {
          "base_uri": "https://localhost:8080/"
        }
      },
      "outputs": [
        {
          "output_type": "execute_result",
          "data": {
            "text/plain": [
              "20"
            ]
          },
          "metadata": {},
          "execution_count": 31
        }
      ],
      "source": [
        "B[1,1]"
      ]
    },
    {
      "cell_type": "markdown",
      "metadata": {
        "id": "jZ5a9l_DBD1d"
      },
      "source": [
        "### 2D Combined\n",
        "\n",
        "<img src=\"https://github.com/PkHeris/Python_For_Engineers/blob/main/02/Images/M3.png?raw=true\" alt=\"Comb 1\" width=\"30%\" height=\"30%\"/>"
      ]
    },
    {
      "cell_type": "code",
      "execution_count": 34,
      "metadata": {
        "id": "p3XLxnMdBD1d",
        "outputId": "047de8db-a4c6-4944-8904-eca436aac6aa",
        "colab": {
          "base_uri": "https://localhost:8080/"
        }
      },
      "outputs": [
        {
          "output_type": "execute_result",
          "data": {
            "text/plain": [
              "array([[  20,   30],\n",
              "       [ 200,  300],\n",
              "       [2000, 3000]])"
            ]
          },
          "metadata": {},
          "execution_count": 34
        }
      ],
      "source": [
        "B[1:,1:]"
      ]
    },
    {
      "cell_type": "markdown",
      "metadata": {
        "id": "5viVMVAABD1d"
      },
      "source": [
        "<img src=\"https://github.com/PkHeris/Python_For_Engineers/blob/main/02/Images/M4.png?raw=true\" alt=\"Comb 2\" width=\"30%\" height=\"30%\"/>"
      ]
    },
    {
      "cell_type": "code",
      "execution_count": 35,
      "metadata": {
        "id": "CmKlrfLzBD1h",
        "outputId": "073301ba-9963-419f-d4cc-15db7d74967a",
        "colab": {
          "base_uri": "https://localhost:8080/"
        }
      },
      "outputs": [
        {
          "output_type": "execute_result",
          "data": {
            "text/plain": [
              "array([[ 20,  30],\n",
              "       [200, 300]])"
            ]
          },
          "metadata": {},
          "execution_count": 35
        }
      ],
      "source": [
        "B[1:3,1:]"
      ]
    },
    {
      "cell_type": "markdown",
      "metadata": {
        "id": "7Oqwtls9BD1h"
      },
      "source": [
        "<img src=\"https://github.com/PkHeris/Python_For_Engineers/blob/main/02/Images/M5.png?raw=true\" alt=\"Comb3\" width=\"30%\" height=\"30%\"/>"
      ]
    },
    {
      "cell_type": "code",
      "execution_count": 36,
      "metadata": {
        "id": "C8LwvufjBD1h",
        "outputId": "89f28e28-e11d-4c31-a7ee-530a8ae124e9",
        "colab": {
          "base_uri": "https://localhost:8080/"
        }
      },
      "outputs": [
        {
          "output_type": "execute_result",
          "data": {
            "text/plain": [
              "array([[  1,   2],\n",
              "       [ 10,  20],\n",
              "       [100, 200]])"
            ]
          },
          "metadata": {},
          "execution_count": 36
        }
      ],
      "source": [
        "B[-4:-1,-3:-1]"
      ]
    },
    {
      "cell_type": "code",
      "source": [
        "print(B)\n",
        "print(B[0])"
      ],
      "metadata": {
        "colab": {
          "base_uri": "https://localhost:8080/"
        },
        "id": "Va8vMsnI-AXG",
        "outputId": "41f96428-7e6c-4396-f322-22a5bedbc915"
      },
      "execution_count": 42,
      "outputs": [
        {
          "output_type": "stream",
          "name": "stdout",
          "text": [
            "[[   1    2    3]\n",
            " [  10   20   30]\n",
            " [ 100  200  300]\n",
            " [1000 2000 3000]]\n",
            "[1 2 3]\n"
          ]
        }
      ]
    },
    {
      "cell_type": "markdown",
      "metadata": {
        "id": "QIlRJZAcBD1h"
      },
      "source": [
        "### 2D Practice\n",
        "\n",
        "Following includes few examples for you to practice\n"
      ]
    },
    {
      "cell_type": "markdown",
      "source": [
        "#### 1\n",
        "\n",
        "<img src=\"https://github.com/PkHeris/Python_For_Engineers/blob/main/02/Images/E1.png?raw=true\" alt=\"Prac1\" width=\"30%\" height=\"30%\"/>"
      ],
      "metadata": {
        "id": "sctDYNiH4ilb"
      }
    },
    {
      "cell_type": "code",
      "execution_count": null,
      "metadata": {
        "id": "ICxsUmWIBD1h"
      },
      "outputs": [],
      "source": []
    },
    {
      "cell_type": "markdown",
      "metadata": {
        "id": "aeT4qXjNBD1h"
      },
      "source": [
        "#### 2\n",
        "\n",
        "<img src=\"https://github.com/PkHeris/Python_For_Engineers/blob/main/02/Images/E2.png?raw=true\" alt=\"Prac2\" width=\"30%\" height=\"30%\"/>"
      ]
    },
    {
      "cell_type": "code",
      "execution_count": null,
      "metadata": {
        "id": "9Xp5WmSIBD1i"
      },
      "outputs": [],
      "source": []
    },
    {
      "cell_type": "markdown",
      "source": [
        "## 3D Slicing:\n",
        "Slicing a 3D array adds an additional level of complexity. You can think of a 3D array as a stack of matrices or 2D arrays. To slice, you need to specify the depth slice, the row slice, and the column slice, in this order: [depth_slice, row_slice, column_slice]. Each slice follows the rules of 1D slicing. For example, to extract the first matrix (at depth 0) from a 3D array, one would do `array[0, :, :]`.\n",
        "\n",
        "<img src=\"https://github.com/PkHeris/Python_For_Engineers/blob/main/02/Images/M6.png?raw=true\" alt=\"D3\" width=\"60%\" height=\"60%\"/>"
      ],
      "metadata": {
        "id": "SnNo0b1zd2-S"
      }
    },
    {
      "cell_type": "code",
      "execution_count": 37,
      "metadata": {
        "id": "6v80iCMDBD1i",
        "outputId": "417395d9-b2f5-41ca-8174-f1937a4ef91d",
        "colab": {
          "base_uri": "https://localhost:8080/"
        }
      },
      "outputs": [
        {
          "output_type": "stream",
          "name": "stdout",
          "text": [
            "[[['1' '2' '3']\n",
            "  ['4' '5' '6']\n",
            "  ['7' '8' '9']\n",
            "  ['10' '11' '12']]\n",
            "\n",
            " [['a' 'b' 'c']\n",
            "  ['d' 'e' 'f']\n",
            "  ['g' 'h' 'i']\n",
            "  ['j' 'k' 'l']]\n",
            "\n",
            " [['i' 'ii' 'iii']\n",
            "  ['iv' 'v' 'vi']\n",
            "  ['vii' 'viii' 'ix']\n",
            "  ['x' 'xi' 'xiii']]]\n"
          ]
        },
        {
          "output_type": "execute_result",
          "data": {
            "text/plain": [
              "(3, 4, 3)"
            ]
          },
          "metadata": {},
          "execution_count": 37
        }
      ],
      "source": [
        "C = np.array([[[1, 2, 3],[4, 5, 6],[7, 8, 9],[10, 11, 12]], [['a', 'b', 'c'],['d', 'e', 'f'],['g', 'h', 'i'],['j', 'k', 'l']], [['i', 'ii', 'iii'],['iv', 'v', 'vi'],['vii', 'viii', 'ix'],['x', 'xi', 'xiii']]])\n",
        "print(C)\n",
        "C.shape"
      ]
    },
    {
      "cell_type": "markdown",
      "metadata": {
        "id": "gzEo8Kj4BD1i"
      },
      "source": [
        "###3D Single Element\n",
        "<img src=\"https://github.com/PkHeris/Python_For_Engineers/blob/main/02/Images/M7.png?raw=true\" alt=\"D3-1\" width=\"60%\" height=\"60%\"/>"
      ]
    },
    {
      "cell_type": "code",
      "execution_count": 38,
      "metadata": {
        "id": "RMXufOzWBD1i",
        "outputId": "ca6d6cdf-c298-4c3f-c406-d235456d8c46",
        "colab": {
          "base_uri": "https://localhost:8080/",
          "height": 35
        }
      },
      "outputs": [
        {
          "output_type": "execute_result",
          "data": {
            "text/plain": [
              "'e'"
            ],
            "application/vnd.google.colaboratory.intrinsic+json": {
              "type": "string"
            }
          },
          "metadata": {},
          "execution_count": 38
        }
      ],
      "source": [
        "C[1,1,1]"
      ]
    },
    {
      "cell_type": "markdown",
      "metadata": {
        "id": "h1DxXoOABD1i"
      },
      "source": [
        "### 3D Single Element of each layer\n",
        "\n",
        "<img src=\"https://github.com/PkHeris/Python_For_Engineers/blob/main/02/Images/M8.png?raw=true\" alt=\"D3\" width=\"60%\" height=\"60%\"/>"
      ]
    },
    {
      "cell_type": "code",
      "execution_count": 39,
      "metadata": {
        "id": "GZbS2k5bBD1i",
        "outputId": "981a5718-d6f9-4e8a-88fe-3814e7ffdd56",
        "colab": {
          "base_uri": "https://localhost:8080/"
        }
      },
      "outputs": [
        {
          "output_type": "execute_result",
          "data": {
            "text/plain": [
              "array(['8', 'h', 'viii'], dtype='<U21')"
            ]
          },
          "metadata": {},
          "execution_count": 39
        }
      ],
      "source": [
        "C[:,2,1]"
      ]
    },
    {
      "cell_type": "markdown",
      "metadata": {
        "id": "Z2oPiyYjBD1j"
      },
      "source": [
        "### 3D Single layer single row\n",
        "\n",
        "<img src=\"https://github.com/PkHeris/Python_For_Engineers/blob/main/02/Images/M9.png?raw=true\" alt=\"D3\" width=\"60%\" height=\"60%\"/>"
      ]
    },
    {
      "cell_type": "code",
      "execution_count": 43,
      "metadata": {
        "id": "egjGexepBD1j",
        "outputId": "6e704e34-f0e5-492d-d510-c74b5d80d27c",
        "colab": {
          "base_uri": "https://localhost:8080/"
        }
      },
      "outputs": [
        {
          "output_type": "execute_result",
          "data": {
            "text/plain": [
              "array(['x', 'xi', 'xiii'], dtype='<U21')"
            ]
          },
          "metadata": {},
          "execution_count": 43
        }
      ],
      "source": [
        "C[2,3] #C[2,3,:]"
      ]
    },
    {
      "cell_type": "markdown",
      "metadata": {
        "id": "bZoZMHhsBD1j"
      },
      "source": [
        "### 3D Single layer single column\n",
        "\n",
        "<img src=\"https://github.com/PkHeris/Python_For_Engineers/blob/main/02/Images/M10.png?raw=true\" alt=\"D3\" width=\"60%\" height=\"60%\"/>"
      ]
    },
    {
      "cell_type": "code",
      "execution_count": 44,
      "metadata": {
        "id": "T9jmIiz-BD1j",
        "outputId": "82532a65-f65e-467f-b16b-bcea8ed69c9b",
        "colab": {
          "base_uri": "https://localhost:8080/"
        }
      },
      "outputs": [
        {
          "output_type": "execute_result",
          "data": {
            "text/plain": [
              "array(['1', '4', '7', '10'], dtype='<U21')"
            ]
          },
          "metadata": {},
          "execution_count": 44
        }
      ],
      "source": [
        "C[0,:,0]"
      ]
    },
    {
      "cell_type": "markdown",
      "metadata": {
        "id": "8SmQi8AABD1j"
      },
      "source": [
        "### 3D Single layer\n",
        "\n",
        "<img src=\"https://github.com/PkHeris/Python_For_Engineers/blob/main/02/Images/M11.png?raw=true\" alt=\"D3\" width=\"60%\" height=\"60%\"/>"
      ]
    },
    {
      "cell_type": "code",
      "execution_count": 45,
      "metadata": {
        "id": "M3zG7pTcBD1j",
        "outputId": "3bfd1a85-cc67-4211-a20b-f618bba3934f",
        "colab": {
          "base_uri": "https://localhost:8080/"
        }
      },
      "outputs": [
        {
          "output_type": "execute_result",
          "data": {
            "text/plain": [
              "array([['a', 'b', 'c'],\n",
              "       ['d', 'e', 'f'],\n",
              "       ['g', 'h', 'i'],\n",
              "       ['j', 'k', 'l']], dtype='<U21')"
            ]
          },
          "metadata": {},
          "execution_count": 45
        }
      ],
      "source": [
        "C[1] #C[1,:,:]"
      ]
    },
    {
      "cell_type": "markdown",
      "metadata": {
        "id": "uunpK4j6BD1k"
      },
      "source": [
        "### 3D Multiple layer\n",
        "\n",
        "<img src=\"https://github.com/PkHeris/Python_For_Engineers/blob/main/02/Images/M12.png?raw=true\" alt=\"D3\" width=\"60%\" height=\"60%\"/>"
      ]
    },
    {
      "cell_type": "code",
      "execution_count": 46,
      "metadata": {
        "id": "QNKOfYEbBD1k",
        "outputId": "f3fbebe8-f953-480e-e935-645596914f3d",
        "colab": {
          "base_uri": "https://localhost:8080/"
        }
      },
      "outputs": [
        {
          "output_type": "execute_result",
          "data": {
            "text/plain": [
              "array([[['5', '6'],\n",
              "        ['8', '9'],\n",
              "        ['11', '12']],\n",
              "\n",
              "       [['e', 'f'],\n",
              "        ['h', 'i'],\n",
              "        ['k', 'l']],\n",
              "\n",
              "       [['v', 'vi'],\n",
              "        ['viii', 'ix'],\n",
              "        ['xi', 'xiii']]], dtype='<U21')"
            ]
          },
          "metadata": {},
          "execution_count": 46
        }
      ],
      "source": [
        "C[:,1:,1:]"
      ]
    },
    {
      "cell_type": "markdown",
      "metadata": {
        "id": "LLUgYVdUBD1k"
      },
      "source": [
        "### 1\n",
        "\n",
        "<img src=\"https://github.com/PkHeris/Python_For_Engineers/blob/main/02/Images/E4.png?raw=true\" alt=\"D3\" width=\"60%\" height=\"60%\"/>"
      ]
    },
    {
      "cell_type": "code",
      "execution_count": null,
      "metadata": {
        "id": "-Oue5E8NBD1k"
      },
      "outputs": [],
      "source": []
    },
    {
      "cell_type": "markdown",
      "metadata": {
        "id": "_2sxNNjrBD1k"
      },
      "source": [
        "### 2\n",
        "\n",
        "<img src=\"https://github.com/PkHeris/Python_For_Engineers/blob/main/02/Images/E5.png?raw=true\" alt=\"D3\" width=\"60%\" height=\"60%\"/>"
      ]
    },
    {
      "cell_type": "code",
      "execution_count": null,
      "metadata": {
        "id": "j5Lxkt4vBD1k"
      },
      "outputs": [],
      "source": []
    },
    {
      "cell_type": "markdown",
      "metadata": {
        "id": "0a_f6a7OBD1k"
      },
      "source": [
        "### 3\n",
        "\n",
        "<img src=\"https://github.com/PkHeris/Python_For_Engineers/blob/main/02/Images/E3.png?raw=true\" alt=\"D3\" width=\"60%\" height=\"60%\"/>"
      ]
    },
    {
      "cell_type": "code",
      "execution_count": null,
      "metadata": {
        "id": "3LQpZsWOBD1k"
      },
      "outputs": [],
      "source": []
    },
    {
      "cell_type": "markdown",
      "metadata": {
        "id": "4VmxMZwwBD1k"
      },
      "source": [
        "### 4\n",
        "\n",
        "<img src=\"https://github.com/PkHeris/Python_For_Engineers/blob/main/02/Images/E6.png?raw=true\" alt=\"D3\" width=\"60%\" height=\"60%\"/>"
      ]
    },
    {
      "cell_type": "code",
      "execution_count": null,
      "metadata": {
        "id": "_iZc97haBD1l"
      },
      "outputs": [],
      "source": []
    },
    {
      "cell_type": "markdown",
      "metadata": {
        "id": "_VHt5LGzBD1l"
      },
      "source": [
        "# **NumPy Functions**\n",
        "\n",
        "In data analysis and manipulation, certain functions are frequently used. This section provides a quick reference to some of these essential functions, especially when dealing with arrays that might contain `NaN` values.\n",
        "\n",
        "## **Key Functions:**\n",
        "- **Simple Manipulation**: Basic operations on array elements.\n",
        "- **Finding**: Locating specific values or indices.\n",
        "- **Sorting**: Organizing data in a specific order.\n",
        "\n",
        "\n"
      ]
    },
    {
      "cell_type": "markdown",
      "source": [
        "\n",
        "## **Reference Table:**\n",
        "\n",
        "| Function Name\t| NaN-safe Version | Description |\n",
        "|:-------------|:----------------|:-----------|\n",
        "| `np.sum(arr, axis)` | `np.nansum(arr, axis)` | Calculate the sum of array elements along a specified axis, ignoring `NaN` values for the NaN-safe version. |\n",
        "| `np.mean(arr, axis)` | `np.nanmean(arr, axis)` | Compute the arithmetic mean along a specified axis, ignoring `NaN` values for the NaN-safe version. |\n",
        "| `np.abs(arr)` | N/A | Calculate the absolute value of each element in the array. |\n",
        "| `np.min(arr, axis)` | `np.nanmin(arr, axis)` | Determine the minimum value along a specified axis, ignoring `NaN` values for the NaN-safe version. |\n",
        "| `np.max(arr, axis)` | `np.nanmax(arr, axis)` | Determine the maximum value along a specified axis, ignoring `NaN` values for the NaN-safe version. |\n",
        "| `np.argmin(arr, axis)` | `np.nanargmin(arr, axis)` | Return the indices of the minimum values along a specified axis, ignoring `NaN` values for the NaN-safe version. |\n",
        "| `np.argmax(arr, axis)` | `np.nanargmax(arr, axis)` | Return the indices of the maximum values along a specified axis, ignoring `NaN` values for the NaN-safe version. |\n",
        "| `np.where(condition,x,y)` | N/A | Return `row` and `col` from input arrays based on the specified condition. |\n",
        "| `np.argwhere(condition)` | N/A | Return the indices `[row, column]` fromat of elements that are non-zero, grouped by element. |\n",
        "| `np.unravel_index(indices, shape)` | N/A | Convert flat indices into coordinates based on the shape of an array. |\n",
        "| `np.sort(arr, axis)` | N/A | Sort the elements of an array along the specified axis in ascending order. |\n",
        "| `np.argsort(arr, axis)` | N/A | Return the indices that would sort the array's elements along the specified axis. |"
      ],
      "metadata": {
        "id": "MUD4ki5gXbkN"
      }
    },
    {
      "cell_type": "markdown",
      "metadata": {
        "id": "pJwqeZ2PBD1l"
      },
      "source": [
        "### Axis indices\n",
        "Following chart indicates the axis indices:\n",
        "\n",
        "<img src=\"https://github.com/PkHeris/Python_For_Engineers/blob/main/02/Images/Axis%2001.jpg?raw=true\" alt=\"axis1\"/>"
      ]
    },
    {
      "cell_type": "markdown",
      "source": [
        "### np.sum & np.nansum"
      ],
      "metadata": {
        "id": "VnWNUDstd9Q8"
      }
    },
    {
      "cell_type": "code",
      "execution_count": 47,
      "metadata": {
        "id": "iek-dvICBD1l",
        "outputId": "e1a6e273-bfe2-4b91-c00c-cadb46af1c0b",
        "colab": {
          "base_uri": "https://localhost:8080/"
        }
      },
      "outputs": [
        {
          "output_type": "stream",
          "name": "stdout",
          "text": [
            "Original Array:\n",
            " [[1 2]\n",
            " [4 5]\n",
            " [7 8]] \n",
            " ------------------------------\n",
            "Sum of arr: 27\n",
            " ------------------------------\n",
            "Sum along axis 0: [12 15]\n",
            " ------------------------------\n",
            "Sum along axis 1: [ 3  9 15]\n",
            " ------------------------------\n",
            "\n",
            "Original Array with NaN:\n",
            " [[ 1.  2. nan]\n",
            " [ 4.  5.  6.]] \n",
            " ------------------------------\n",
            "Sum of arr (using np.sum): nan  # This will be nan due to the presence of NaN\n",
            " ------------------------------\n",
            "Sum of arr (ignoring NaN): 18.0\n",
            " ------------------------------\n"
          ]
        }
      ],
      "source": [
        "import numpy as np\n",
        "arr = np.array([[1, 2], [4, 5], [7, 8]])\n",
        "print(\"Original Array:\\n\", arr, \"\\n\", \"-\"*30)\n",
        "print(f\"Sum of arr: {np.sum(arr)}\\n\", \"-\"*30)\n",
        "print(f\"Sum along axis 0: {np.sum(arr, axis=0)}\\n\", \"-\"*30)\n",
        "print(f\"Sum along axis 1: {np.sum(arr, axis=1)}\\n\", \"-\"*30)\n",
        "\n",
        "arr = np.array([[1, 2, np.nan], [4, 5, 6]])\n",
        "print(\"\\nOriginal Array with NaN:\\n\", arr, \"\\n\", \"-\"*30)\n",
        "print(f\"Sum of arr (using np.sum): {np.sum(arr)}  # This will be nan due to the presence of NaN\\n\", \"-\"*30)\n",
        "print(f\"Sum of arr (ignoring NaN): {np.nansum(arr)}\\n\", \"-\"*30)"
      ]
    },
    {
      "cell_type": "markdown",
      "source": [
        "### np.mean & np.nanmean"
      ],
      "metadata": {
        "id": "E7iAjM1OeaMp"
      }
    },
    {
      "cell_type": "code",
      "execution_count": 48,
      "metadata": {
        "id": "2ItQiz85BD1l",
        "outputId": "fcab07f2-2f00-448c-aca8-8e597c498ff1",
        "colab": {
          "base_uri": "https://localhost:8080/"
        }
      },
      "outputs": [
        {
          "output_type": "stream",
          "name": "stdout",
          "text": [
            "\n",
            "Original Array:\n",
            " [[10 20 30]\n",
            " [40 50 60]] \n",
            " ------------------------------\n",
            "Mean of arr: 35.0\n",
            " ------------------------------\n",
            "Mean along axis 0: [25. 35. 45.]\n",
            " ------------------------------\n",
            "Mean along axis 1: [20. 50.]\n",
            " ------------------------------\n",
            "\n",
            "Original Array with NaN:\n",
            " [[10. 20. nan]\n",
            " [40. 50. 60.]] \n",
            " ------------------------------\n",
            "Mean of arr (using np.mean): nan  # This will be nan due to the presence of NaN\n",
            " ------------------------------\n",
            "Mean of arr (ignoring NaN): 36.0\n",
            " ------------------------------\n"
          ]
        }
      ],
      "source": [
        "arr = np.array([[10, 20, 30], [40, 50, 60]])\n",
        "print(\"\\nOriginal Array:\\n\", arr, \"\\n\", \"-\"*30)\n",
        "print(f\"Mean of arr: {np.mean(arr)}\\n\", \"-\"*30)\n",
        "print(f\"Mean along axis 0: {np.mean(arr, axis=0)}\\n\", \"-\"*30)\n",
        "print(f\"Mean along axis 1: {np.mean(arr, axis=1)}\\n\", \"-\"*30)\n",
        "\n",
        "arr = np.array([[10, 20, np.nan], [40, 50, 60]])\n",
        "print(\"\\nOriginal Array with NaN:\\n\", arr, \"\\n\", \"-\"*30)\n",
        "print(f\"Mean of arr (using np.mean): {np.mean(arr)}  # This will be nan due to the presence of NaN\\n\", \"-\"*30)\n",
        "print(f\"Mean of arr (ignoring NaN): {np.nanmean(arr)}\\n\", \"-\"*30)"
      ]
    },
    {
      "cell_type": "markdown",
      "source": [
        "### np.abs"
      ],
      "metadata": {
        "id": "jcvmoj_me6te"
      }
    },
    {
      "cell_type": "code",
      "source": [
        "arr = np.array([-1, -2, 3, -4])\n",
        "print(\"\\nOriginal Array:\\n\", arr, \"\\n\", \"-\"*30)\n",
        "print(f\"Absolute values of arr: {np.abs(arr)}\\n\", \"-\"*30)"
      ],
      "metadata": {
        "colab": {
          "base_uri": "https://localhost:8080/"
        },
        "id": "SsTqG23se52K",
        "outputId": "100f2e80-e0f3-4b4b-b54e-d5ebfebedb30"
      },
      "execution_count": 49,
      "outputs": [
        {
          "output_type": "stream",
          "name": "stdout",
          "text": [
            "\n",
            "Original Array:\n",
            " [-1 -2  3 -4] \n",
            " ------------------------------\n",
            "Absolute values of arr: [1 2 3 4]\n",
            " ------------------------------\n"
          ]
        }
      ]
    },
    {
      "cell_type": "markdown",
      "source": [
        "### np.min & np.nanmin"
      ],
      "metadata": {
        "id": "BeSQJ679fAOs"
      }
    },
    {
      "cell_type": "code",
      "source": [
        "arr = np.array([[10, 20], [5, 15], [25, 30]])\n",
        "print(\"\\nOriginal Array:\\n\", arr, \"\\n\", \"-\"*30)\n",
        "print(f\"Minimum value in arr: {np.min(arr)}\\n\", \"-\"*30)\n",
        "print(f\"Minimum value along axis 0: {np.min(arr, axis=0)}\\n\", \"-\"*30)\n",
        "print(f\"Minimum value along axis 1: {np.min(arr, axis=1)}\\n\", \"-\"*30)\n",
        "\n",
        "arr = np.array([[10, 20, np.nan], [5, 15, 25]])\n",
        "print(\"\\nOriginal Array with NaN:\\n\", arr, \"\\n\", \"-\"*30)\n",
        "print(f\"Minimum value in arr (using np.min): {np.min(arr)}  # This will raise an error due to the presence of NaN\\n\", \"-\"*30)\n",
        "print(f\"Minimum value in arr (ignoring NaN): {np.nanmin(arr)}\\n\", \"-\"*30)"
      ],
      "metadata": {
        "colab": {
          "base_uri": "https://localhost:8080/"
        },
        "id": "0VDCEXISfJby",
        "outputId": "07d39e0c-6c22-4a9d-e0f9-b5e46eb56b8a"
      },
      "execution_count": 50,
      "outputs": [
        {
          "output_type": "stream",
          "name": "stdout",
          "text": [
            "\n",
            "Original Array:\n",
            " [[10 20]\n",
            " [ 5 15]\n",
            " [25 30]] \n",
            " ------------------------------\n",
            "Minimum value in arr: 5\n",
            " ------------------------------\n",
            "Minimum value along axis 0: [ 5 15]\n",
            " ------------------------------\n",
            "Minimum value along axis 1: [10  5 25]\n",
            " ------------------------------\n",
            "\n",
            "Original Array with NaN:\n",
            " [[10. 20. nan]\n",
            " [ 5. 15. 25.]] \n",
            " ------------------------------\n",
            "Minimum value in arr (using np.min): nan  # This will raise an error due to the presence of NaN\n",
            " ------------------------------\n",
            "Minimum value in arr (ignoring NaN): 5.0\n",
            " ------------------------------\n"
          ]
        }
      ]
    },
    {
      "cell_type": "markdown",
      "source": [
        "### np.max & np.nanmax"
      ],
      "metadata": {
        "id": "vt4aWaicfJzV"
      }
    },
    {
      "cell_type": "code",
      "source": [
        "arr = np.array([[10, 20], [5, 15], [25, 30]])\n",
        "print(\"\\nOriginal Array:\\n\", arr, \"\\n\", \"-\"*30)\n",
        "print(f\"Maximum value in arr: {np.max(arr)}\\n\", \"-\"*30)\n",
        "print(f\"Maximum value along axis 0: {np.max(arr, axis=0)}\\n\", \"-\"*30)\n",
        "print(f\"Maximum value along axis 1: {np.max(arr, axis=1)}\\n\", \"-\"*30)\n",
        "\n",
        "arr = np.array([[10, 20, np.nan], [5, 15, 25]])\n",
        "print(\"\\nOriginal Array with NaN:\\n\", arr, \"\\n\", \"-\"*30)\n",
        "print(f\"Maximum value in arr (using np.max): {np.max(arr)}  # This will raise an error due to the presence of NaN\\n\", \"-\"*30)\n",
        "print(f\"Maximum value in arr (ignoring NaN): {np.nanmax(arr)}\\n\", \"-\"*30)"
      ],
      "metadata": {
        "colab": {
          "base_uri": "https://localhost:8080/"
        },
        "id": "qR5rbWlHfMyH",
        "outputId": "27ecda1b-af56-4cf3-be7b-c42cfe837770"
      },
      "execution_count": 51,
      "outputs": [
        {
          "output_type": "stream",
          "name": "stdout",
          "text": [
            "\n",
            "Original Array:\n",
            " [[10 20]\n",
            " [ 5 15]\n",
            " [25 30]] \n",
            " ------------------------------\n",
            "Maximum value in arr: 30\n",
            " ------------------------------\n",
            "Maximum value along axis 0: [25 30]\n",
            " ------------------------------\n",
            "Maximum value along axis 1: [20 15 30]\n",
            " ------------------------------\n",
            "\n",
            "Original Array with NaN:\n",
            " [[10. 20. nan]\n",
            " [ 5. 15. 25.]] \n",
            " ------------------------------\n",
            "Maximum value in arr (using np.max): nan  # This will raise an error due to the presence of NaN\n",
            " ------------------------------\n",
            "Maximum value in arr (ignoring NaN): 25.0\n",
            " ------------------------------\n"
          ]
        }
      ]
    },
    {
      "cell_type": "markdown",
      "source": [
        "### np.argmin & np.nanargmin"
      ],
      "metadata": {
        "id": "wQ619XA5fNfI"
      }
    },
    {
      "cell_type": "code",
      "source": [
        "arr = np.array([10, 5, 15, 20])\n",
        "print(\"\\nOriginal Array:\\n\", arr, \"\\n\", \"-\"*30)\n",
        "print(f\"Index of minimum value in arr: {np.argmin(arr)}\\n\", \"-\"*30)\n",
        "\n",
        "arr = np.array([10, 5, np.nan, 20])\n",
        "print(\"\\nOriginal Array with NaN:\\n\", arr, \"\\n\", \"-\"*30)\n",
        "print(f\"Index of minimum value in arr (ignoring NaN): {np.nanargmin(arr)}\\n\", \"-\"*30)"
      ],
      "metadata": {
        "colab": {
          "base_uri": "https://localhost:8080/"
        },
        "id": "NkC2rJetfQAA",
        "outputId": "03e56e33-b208-445f-e060-04d94448f5b7"
      },
      "execution_count": 52,
      "outputs": [
        {
          "output_type": "stream",
          "name": "stdout",
          "text": [
            "\n",
            "Original Array:\n",
            " [10  5 15 20] \n",
            " ------------------------------\n",
            "Index of minimum value in arr: 1\n",
            " ------------------------------\n",
            "\n",
            "Original Array with NaN:\n",
            " [10.  5. nan 20.] \n",
            " ------------------------------\n",
            "Index of minimum value in arr (ignoring NaN): 1\n",
            " ------------------------------\n"
          ]
        }
      ]
    },
    {
      "cell_type": "markdown",
      "source": [
        "### np.argmax & np.nanargmax"
      ],
      "metadata": {
        "id": "JlhrtOnDfQTP"
      }
    },
    {
      "cell_type": "code",
      "source": [
        "arr = np.array([10, 20, 15, 5])\n",
        "print(\"\\nOriginal Array:\\n\", arr, \"\\n\", \"-\"*30)\n",
        "print(f\"Index of maximum value in arr: {np.argmax(arr)}\\n\", \"-\"*30)\n",
        "\n",
        "arr = np.array([10, 20, np.nan, 5])\n",
        "print(\"\\nOriginal Array with NaN:\\n\", arr, \"\\n\", \"-\"*30)\n",
        "print(f\"Index of maximum value in arr (ignoring NaN): {np.nanargmax(arr)}\\n\", \"-\"*30)"
      ],
      "metadata": {
        "colab": {
          "base_uri": "https://localhost:8080/"
        },
        "id": "mXlN1BPyfS1M",
        "outputId": "67ca039a-058c-4f13-af40-382b31d4c934"
      },
      "execution_count": 53,
      "outputs": [
        {
          "output_type": "stream",
          "name": "stdout",
          "text": [
            "\n",
            "Original Array:\n",
            " [10 20 15  5] \n",
            " ------------------------------\n",
            "Index of maximum value in arr: 1\n",
            " ------------------------------\n",
            "\n",
            "Original Array with NaN:\n",
            " [10. 20. nan  5.] \n",
            " ------------------------------\n",
            "Index of maximum value in arr (ignoring NaN): 1\n",
            " ------------------------------\n"
          ]
        }
      ]
    },
    {
      "cell_type": "markdown",
      "source": [
        "### np.where"
      ],
      "metadata": {
        "id": "udy2yGJhfTOg"
      }
    },
    {
      "cell_type": "code",
      "source": [
        "arr = np.array([1, 20, 3, 4, 5])\n",
        "print(\"\\nOriginal Array:\\n\", arr, \"\\n\", \"-\"*30)\n",
        "print(f\"Indices where value > 3: {np.where(arr > 3)}\\n\", \"-\"*30)"
      ],
      "metadata": {
        "colab": {
          "base_uri": "https://localhost:8080/"
        },
        "id": "Ao2_vepZfVvL",
        "outputId": "f3b69ad3-24ef-4dd6-9860-8c09ff4f2332"
      },
      "execution_count": 58,
      "outputs": [
        {
          "output_type": "stream",
          "name": "stdout",
          "text": [
            "\n",
            "Original Array:\n",
            " [ 1 20  3  4  5] \n",
            " ------------------------------\n",
            "Indices where value > 3: (array([1, 3, 4]),)\n",
            " ------------------------------\n"
          ]
        }
      ]
    },
    {
      "cell_type": "code",
      "source": [
        "arr = np.array([[0, 1, 2], [3, 4, 0], [5, 0, 6]])\n",
        "print(\"\\nOriginal Array:\\n\", arr, \"\\n\", \"-\"*30)\n",
        "print(f\"Indices of elements greater than 3:\\nRows: {np.where(arr > 3)[0]}\\nColumns: {np.where(arr > 3)[1]}\\n\", \"-\"*30)\n",
        "print(f\"Indices of elements greater than 3: {np.where(arr > 3)}\")\n"
      ],
      "metadata": {
        "colab": {
          "base_uri": "https://localhost:8080/"
        },
        "id": "sj1Rp4HmIdDf",
        "outputId": "3e7fc397-a259-4a57-f601-7d9d2770a40c"
      },
      "execution_count": 60,
      "outputs": [
        {
          "output_type": "stream",
          "name": "stdout",
          "text": [
            "\n",
            "Original Array:\n",
            " [[0 1 2]\n",
            " [3 4 0]\n",
            " [5 0 6]] \n",
            " ------------------------------\n",
            "Indices of elements greater than 3:\n",
            "Rows: [1 2 2]\n",
            "Columns: [1 0 2]\n",
            " ------------------------------\n",
            "Indices of elements greater than 3: (array([1, 2, 2]), array([1, 0, 2]))\n"
          ]
        }
      ]
    },
    {
      "cell_type": "code",
      "source": [
        "temperatures = np.array([22, 28, 24, 30, 26])\n",
        "feelings_hot = np.array([\"Hot\", \"Hot\", \"Hot\", \"Hot\", \"Hot\"])\n",
        "feelings_cool = np.array([\"Cool\", \"Cool\", \"Cool\", \"Cool\", \"Cool\"])\n",
        "\n",
        "feelings = np.where(temperatures > 27, feelings_hot, feelings_cool)\n",
        "print(feelings)\n",
        "print(np.where(temperatures > 27))\n"
      ],
      "metadata": {
        "colab": {
          "base_uri": "https://localhost:8080/"
        },
        "id": "pCBjFo1cJqRt",
        "outputId": "5052d2cd-610f-43d0-b0df-5d99c6e7cc15"
      },
      "execution_count": 63,
      "outputs": [
        {
          "output_type": "stream",
          "name": "stdout",
          "text": [
            "['Cool' 'Hot' 'Cool' 'Hot' 'Cool']\n",
            "(array([1, 3]),)\n"
          ]
        }
      ]
    },
    {
      "cell_type": "markdown",
      "source": [
        "### np.argwhere"
      ],
      "metadata": {
        "id": "AtebVL96fWHU"
      }
    },
    {
      "cell_type": "code",
      "source": [
        "print(\"\\nOriginal Array:\\n\", arr, \"\\n\", \"-\"*30)\n",
        "print(f\"Indices where value > 3: {np.argwhere(arr > 3)}\\n\", \"-\"*30)"
      ],
      "metadata": {
        "colab": {
          "base_uri": "https://localhost:8080/"
        },
        "id": "uRfMqalMfZZ4",
        "outputId": "bd5943f3-bf46-4fab-a48d-8c02c2daecf1"
      },
      "execution_count": 65,
      "outputs": [
        {
          "output_type": "stream",
          "name": "stdout",
          "text": [
            "\n",
            "Original Array:\n",
            " [[0 1 2]\n",
            " [3 4 0]\n",
            " [5 0 6]] \n",
            " ------------------------------\n",
            "Indices where value > 3: [[1 1]\n",
            " [2 0]\n",
            " [2 2]]\n",
            " ------------------------------\n"
          ]
        }
      ]
    },
    {
      "cell_type": "markdown",
      "source": [
        "### np.unravel_index"
      ],
      "metadata": {
        "id": "LLoXkCq1fZxk"
      }
    },
    {
      "cell_type": "code",
      "source": [
        "arr = np.array([\n",
        "    [[23, 5],\n",
        "     [8, 15]],\n",
        "\n",
        "    [[3, 29],\n",
        "     [10, 7]],\n",
        "\n",
        "    [[14, 2],\n",
        "     [12, 18]]\n",
        "])\n",
        "\n",
        "print(\"\\nOriginal 3D Array:\\n\", arr, \"\\n\", \"-\"*30)\n",
        "\n",
        "index_flat = np.argmax(arr)\n",
        "print(f\"Flattened index of the maximum value: {index_flat}\\n\", \"-\"*30)\n",
        "\n",
        "index_3d = np.unravel_index(index_flat, arr.shape)\n",
        "print(f\"3D index of the maximum value: {index_3d}\\n\", \"-\"*30)\n",
        "\n",
        "print(f\"Value at the 3D index: {arr[index_3d]}\\n\", \"-\"*30)\n"
      ],
      "metadata": {
        "colab": {
          "base_uri": "https://localhost:8080/"
        },
        "id": "MCPjyCb6fgWh",
        "outputId": "7e691108-2fd8-43ee-c9b1-27ffd7c6b446"
      },
      "execution_count": 66,
      "outputs": [
        {
          "output_type": "stream",
          "name": "stdout",
          "text": [
            "\n",
            "Original 3D Array:\n",
            " [[[23  5]\n",
            "  [ 8 15]]\n",
            "\n",
            " [[ 3 29]\n",
            "  [10  7]]\n",
            "\n",
            " [[14  2]\n",
            "  [12 18]]] \n",
            " ------------------------------\n",
            "Flattened index of the maximum value: 5\n",
            " ------------------------------\n",
            "3D index of the maximum value: (1, 0, 1)\n",
            " ------------------------------\n",
            "Value at the 3D index: 29\n",
            " ------------------------------\n"
          ]
        }
      ]
    },
    {
      "cell_type": "markdown",
      "source": [
        "### np.sort"
      ],
      "metadata": {
        "id": "mDllsvFzfgmd"
      }
    },
    {
      "cell_type": "code",
      "source": [
        "arr = np.array([3, 1, 2])\n",
        "print(\"\\nOriginal Array:\\n\", arr, \"\\n\", \"-\"*30)\n",
        "print(f\"Sorted arr: {np.sort(arr)}\\n\", \"-\"*30)"
      ],
      "metadata": {
        "colab": {
          "base_uri": "https://localhost:8080/"
        },
        "id": "S_4RL3hffidh",
        "outputId": "ac51dcc7-c838-4fed-f9ca-857706adf188"
      },
      "execution_count": 67,
      "outputs": [
        {
          "output_type": "stream",
          "name": "stdout",
          "text": [
            "\n",
            "Original Array:\n",
            " [3 1 2] \n",
            " ------------------------------\n",
            "Sorted arr: [1 2 3]\n",
            " ------------------------------\n"
          ]
        }
      ]
    },
    {
      "cell_type": "markdown",
      "source": [
        "### np.argsort"
      ],
      "metadata": {
        "id": "zf6PJ8p2finl"
      }
    },
    {
      "cell_type": "code",
      "source": [
        "arr = np.array([3, 1, 2])\n",
        "print(\"\\nOriginal Array:\\n\", arr, \"\\n\", \"-\"*30)\n",
        "print(f\"Indices that would sort arr: {np.argsort(arr)}\\n\", \"-\"*30)"
      ],
      "metadata": {
        "colab": {
          "base_uri": "https://localhost:8080/"
        },
        "id": "pmNHh9pPfk0z",
        "outputId": "395cfc54-5fa8-44fb-d06f-a8a9032f0515"
      },
      "execution_count": 68,
      "outputs": [
        {
          "output_type": "stream",
          "name": "stdout",
          "text": [
            "\n",
            "Original Array:\n",
            " [3 1 2] \n",
            " ------------------------------\n",
            "Indices that would sort arr: [1 2 0]\n",
            " ------------------------------\n"
          ]
        }
      ]
    },
    {
      "cell_type": "code",
      "source": [
        "arr[np.argsort(arr)]"
      ],
      "metadata": {
        "colab": {
          "base_uri": "https://localhost:8080/"
        },
        "id": "AW3-tmw3LyZp",
        "outputId": "3f9e716d-5745-422c-dd77-c8a398aae110"
      },
      "execution_count": 69,
      "outputs": [
        {
          "output_type": "execute_result",
          "data": {
            "text/plain": [
              "array([1, 2, 3])"
            ]
          },
          "metadata": {},
          "execution_count": 69
        }
      ]
    },
    {
      "cell_type": "markdown",
      "source": [
        "### Stress Testing of Materials\n",
        "\n",
        "An engineer is conducting stress tests on samples of a new material. Each test measures the material's breaking point under increasing pressure. Due to certain experimental errors, some of the tests fail to produce a result and are recorded as `NaN` values in the dataset. The engineer wants to analyze the data to find the average breaking point, locate the weakest and strongest samples, and identify which tests need to be re-conducted.\n",
        "\n",
        "|        | Test 1 | Test 2 | Test 3 | Test 4 |\n",
        "|--------|--------|--------|--------|--------|\n",
        "| Sample A | 55.2   | 52.8   | NaN    | 58.5   |\n",
        "| Sample B | 56.1   | NaN    | 57.5   | 56.9   |\n",
        "| Sample C | 54.8   | 55.4   | 56.0   | NaN    |\n",
        "\n",
        "### Plotting Request\n",
        "\n",
        "Please plot the breaking points of the samples using a line plot. Each sample should be represented with a distinct line, with points corresponding to the different tests. Gaps in the line should represent failed tests. This will allow for a visual comparison of the breaking points across different tests and samples.\n"
      ],
      "metadata": {
        "id": "-L-atVhSsglE"
      }
    },
    {
      "cell_type": "code",
      "source": [
        "import numpy as np\n",
        "\n",
        "# Data: breaking points of samples (in MPa). NaN represents failed tests.\n",
        "data = np.array([[55.2, 52.8, np.nan, 58.5],\n",
        "                 [56.1, np.nan, 57.5, 56.9],\n",
        "                 [54.8, 55.4, 56.0, 55.7]])\n",
        "\n",
        "# Average breaking point\n",
        "average_breaking_point = np.nanmean(data)\n",
        "\n",
        "# Weakest and Strongest samples\n",
        "min_value = np.nanmin(data)\n",
        "max_value = np.nanmax(data)\n",
        "\n",
        "# Location (index) of the weakest and strongest samples\n",
        "min_index = np.unravel_index(np.nanargmin(data), data.shape)\n",
        "max_index = np.unravel_index(np.nanargmax(data), data.shape)\n",
        "\n",
        "# Identifying failed tests\n",
        "failed_tests = np.argwhere(np.isnan(data))\n",
        "\n",
        "print(f\"Average Breaking Point: {average_breaking_point} MPa\")\n",
        "print(f\"Weakest Sample: {min_value} MPa at index {min_index}\")\n",
        "print(f\"Strongest Sample: {max_value} MPa at index {max_index}\")\n",
        "print(f\"Failed Tests at Indices: {failed_tests}\")\n"
      ],
      "metadata": {
        "colab": {
          "base_uri": "https://localhost:8080/"
        },
        "id": "bUvl-I7fsgFh",
        "outputId": "41ceb064-338f-4310-8674-5cd36e759241"
      },
      "execution_count": 72,
      "outputs": [
        {
          "output_type": "stream",
          "name": "stdout",
          "text": [
            "Average Breaking Point: 55.89 MPa\n",
            "Weakest Sample: 52.8 MPa at index (0, 1)\n",
            "Strongest Sample: 58.5 MPa at index (0, 3)\n",
            "Failed Tests at Indices: [[0 2]\n",
            " [1 1]]\n",
            "[54.8 52.8 56.  55.7]\n"
          ]
        }
      ]
    },
    {
      "cell_type": "code",
      "source": [
        "import matplotlib.pyplot as plt\n",
        "plt.style.use('seaborn-whitegrid') # white grid\n",
        "# Sample and test identifiers\n",
        "samples = [\"Sample A\", \"Sample B\", \"Sample C\"]\n",
        "tests = [\"Test 1\", \"Test 2\", \"Test 3\", \"Test 4\"]\n",
        "\n",
        "# Plotting the data\n",
        "plt.plot(tests, data[0], marker='o', label=samples[0])\n",
        "plt.plot(tests, data[1], marker='o', label=samples[1])\n",
        "plt.plot(tests, data[2], marker='o', label=samples[2])\n",
        "\n",
        "# Setting labels, title, and legend\n",
        "plt.xlabel('Tests')\n",
        "plt.ylabel('Breaking Points')\n",
        "plt.title('Breaking Points of Samples across Tests')\n",
        "plt.legend()\n",
        "plt.show()\n"
      ],
      "metadata": {
        "colab": {
          "base_uri": "https://localhost:8080/",
          "height": 519
        },
        "id": "AiQXmdievHs1",
        "outputId": "8bfc49b8-2e00-4e87-ab3d-6806eab70f54"
      },
      "execution_count": 73,
      "outputs": [
        {
          "output_type": "stream",
          "name": "stderr",
          "text": [
            "<ipython-input-73-194959ef7012>:2: MatplotlibDeprecationWarning: The seaborn styles shipped by Matplotlib are deprecated since 3.6, as they no longer correspond to the styles shipped by seaborn. However, they will remain available as 'seaborn-v0_8-<style>'. Alternatively, directly use the seaborn API instead.\n",
            "  plt.style.use('seaborn-whitegrid') # white grid\n"
          ]
        },
        {
          "output_type": "display_data",
          "data": {
            "text/plain": [
              "<Figure size 640x480 with 1 Axes>"
            ],
            "image/png": "[encoded data removed]"
          },
          "metadata": {}
        }
      ]
    },
    {
      "cell_type": "markdown",
      "source": [
        "### 1"
      ],
      "metadata": {
        "id": "ejXsu2SJ3FQ_"
      }
    },
    {
      "cell_type": "code",
      "source": [
        "import numpy as np\n",
        "\n",
        "# practice 2D array\n",
        "arr = np.array([\n",
        "    [1, 5, 3],\n",
        "    [4, 2, 6],\n",
        "    [7, 8, 9]\n",
        "])\n",
        "\n",
        "print(\"\\nOriginal Array:\\n\", arr, \"\\n\", \"-\"*30)"
      ],
      "metadata": {
        "id": "GWyetNVv3A4V"
      },
      "execution_count": null,
      "outputs": []
    },
    {
      "cell_type": "code",
      "source": [
        "# np.min\n",
        "print(\"Find the minimum value of the array:\")\n",
        "# put your answer here\n",
        "\n",
        "print(\"-\"*30)"
      ],
      "metadata": {
        "id": "4h629Atp3J6h"
      },
      "execution_count": null,
      "outputs": []
    },
    {
      "cell_type": "code",
      "source": [
        "# np.max\n",
        "print(\"Find the maximum value of the array:\")\n",
        "# put your answer here\n",
        "\n",
        "\n",
        "print(\"-\"*30)"
      ],
      "metadata": {
        "id": "v0-cE4DC3NUY"
      },
      "execution_count": null,
      "outputs": []
    },
    {
      "cell_type": "code",
      "source": [
        "# np.sum\n",
        "print(\"Find the total sum of the array:\")\n",
        "# put your answer here\n",
        "\n",
        "print(\"-\"*30)\n",
        "\n",
        "print(\"Find the total sum of the array along columns:\")\n",
        "# put your answer here\n",
        "\n",
        "print(\"-\"*30)"
      ],
      "metadata": {
        "id": "-SxByAUw3S4Z"
      },
      "execution_count": null,
      "outputs": []
    },
    {
      "cell_type": "code",
      "source": [
        "# np.mean\n",
        "print(\"Find the mean value of the array:\")\n",
        "# put your answer here\n",
        "\n",
        "print(\"-\"*30)\n"
      ],
      "metadata": {
        "id": "U67O03GQ3XPf"
      },
      "execution_count": null,
      "outputs": []
    },
    {
      "cell_type": "code",
      "source": [
        "# np.argmin\n",
        "print(\"Find the index of the minimum value of the array along rows:\")\n",
        "# put your answer here\n",
        "\n",
        "print(\"-\"*30)"
      ],
      "metadata": {
        "id": "t5_ZNTtJ3sMM"
      },
      "execution_count": null,
      "outputs": []
    },
    {
      "cell_type": "code",
      "source": [
        "# np.argmax\n",
        "print(\"Find the index of the maximum value of the array:\")\n",
        "# put your answer here\n",
        "\n",
        "print(\"-\"*30)"
      ],
      "metadata": {
        "id": "UK6DFusE4A97"
      },
      "execution_count": null,
      "outputs": []
    },
    {
      "cell_type": "code",
      "source": [
        "# np.where\n",
        "print(\"Find the indices of values greater than 5:\")\n",
        "# put your answer here\n",
        "\n",
        "print(\"-\"*30)"
      ],
      "metadata": {
        "id": "emcGz6Xx4DRX"
      },
      "execution_count": null,
      "outputs": []
    },
    {
      "cell_type": "code",
      "source": [
        "# np.argwhere\n",
        "print(\"Find the indices of non-zero values:\")\n",
        "# put your answer here\n",
        "\n",
        "print(\"-\"*30)"
      ],
      "metadata": {
        "id": "NBjlkmhm4GRd"
      },
      "execution_count": null,
      "outputs": []
    },
    {
      "cell_type": "code",
      "source": [
        "# np.unravel_index\n",
        "print(\"Find the index of the maximum value and convert the flat index to a 2D index:\")\n",
        "# put your answer here\n",
        "\n",
        "\n",
        "print(\"-\"*30)"
      ],
      "metadata": {
        "id": "sUcZyq8C4KLJ"
      },
      "execution_count": null,
      "outputs": []
    },
    {
      "cell_type": "code",
      "source": [
        "# np.sort\n",
        "print(\"Sort the array along axis 1:\")\n",
        "# put your answer here\n",
        "\n",
        "\n",
        "print(\"-\"*30)"
      ],
      "metadata": {
        "id": "cWk0se7i4pnx"
      },
      "execution_count": null,
      "outputs": []
    },
    {
      "cell_type": "code",
      "source": [
        "# np.argsort\n",
        "print(\"Find the indices that would sort the array along axis 1:\")\n",
        "# put your answer here\n",
        "\n",
        "print(\"-\"*30)\n"
      ],
      "metadata": {
        "id": "0HEpgG_l4tO9"
      },
      "execution_count": null,
      "outputs": []
    },
    {
      "cell_type": "code",
      "source": [
        "# np.abs\n",
        "print(\"Find the absolute values of the array:\")\n",
        "# put your answer here\n",
        "arr_negative = np.array([[-1, -5, 3], [4, -2, -6]])\n",
        "\n",
        "print(\"-\"*30)"
      ],
      "metadata": {
        "id": "ttzkGDEc4wCZ"
      },
      "execution_count": null,
      "outputs": []
    },
    {
      "cell_type": "markdown",
      "source": [
        "### Power Consumption of Electronic Devices\n",
        "An electrical engineer is evaluating the power consumption of different electronic devices in a lab setting. Each test measures the power draw of a device over a set period of time. However, due to occasional setup errors, some of the tests produce inconclusive results, which are recorded as `NaN` values. The engineer aims to analyze the data to determine the average power consumption, identify which devices are the most and least efficient, and discern which tests need to be re-run.\n",
        "\n",
        "|             | Test 1 | Test 2 | Test 3 | Test 4 | Test 5 |\n",
        "|-------------|--------|--------|--------|--------|--------|\n",
        "| Device A    | 15.2   | 14.8   | NaN    | 15.5   | 15.1   |\n",
        "| Device B    | 14.1   | NaN    | 15.5   | 14.9   | 15.0   |\n",
        "| Device C    | 15.8   | 15.4   | 15.0   | NaN    | 14.7   |\n"
      ],
      "metadata": {
        "id": "917PYN6mASSx"
      }
    },
    {
      "cell_type": "code",
      "source": [
        "import numpy as np\n",
        "\n",
        "# Sample Data\n",
        "data = #np.array\n",
        "\n",
        "# Device and test identifiers\n",
        "devices = #[\"Device A\", ...]\n",
        "tests = #[\"Test 1\", ...]\n",
        "\n",
        "\n"
      ],
      "metadata": {
        "id": "t_qLESYdAZ8B"
      },
      "execution_count": null,
      "outputs": []
    },
    {
      "cell_type": "code",
      "source": [
        "# Hint 1: To calculate the average power consumption for each device,\n",
        "# consider using np.nanmean() which ignores NaN values.\n",
        "\n"
      ],
      "metadata": {
        "id": "HkinsMetBfDv"
      },
      "execution_count": null,
      "outputs": []
    },
    {
      "cell_type": "code",
      "source": [
        "# Hint 2: Once you have the average consumption for each device,\n",
        "# you can determine the most and least efficient devices using np.argmax() and np.argmin().\n",
        "\n"
      ],
      "metadata": {
        "id": "zO5fmOSkBznr"
      },
      "execution_count": null,
      "outputs": []
    },
    {
      "cell_type": "code",
      "source": [
        "# Hint 3: To determine which tests to be re-run for each device,\n",
        "# you can check for NaN values in the data for each test using np.isnan().\n"
      ],
      "metadata": {
        "id": "MyOg_WwYB1sN"
      },
      "execution_count": null,
      "outputs": []
    },
    {
      "cell_type": "code",
      "source": [
        "# Plot"
      ],
      "metadata": {
        "id": "21_b2l31I0yt"
      },
      "execution_count": null,
      "outputs": []
    }
  ],
  "metadata": {
    "kernelspec": {
      "display_name": "Python 3 (ipykernel)",
      "language": "python",
      "name": "python3"
    },
    "language_info": {
      "codemirror_mode": {
        "name": "ipython",
        "version": 3
      },
      "file_extension": ".py",
      "mimetype": "text/x-python",
      "name": "python",
      "nbconvert_exporter": "python",
      "pygments_lexer": "ipython3",
      "version": "3.8.12"
    },
    "colab": {
      "provenance": [],
      "toc_visible": true,
      "include_colab_link": true
    }
  },
  "nbformat": 4,
  "nbformat_minor": 0
}