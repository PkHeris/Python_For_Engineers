{
  "cells": [
    {
      "cell_type": "markdown",
      "metadata": {
        "id": "view-in-github",
        "colab_type": "text"
      },
      "source": [
        "<a href=\"https://colab.research.google.com/github/PkHeris/Python_For_Engineers/blob/main/01_Overview.ipynb\" target=\"_parent\"><img src=\"https://colab.research.google.com/assets/colab-badge.svg\" alt=\"Open In Colab\"/></a>"
      ]
    },
    {
      "cell_type": "markdown",
      "metadata": {
        "id": "vNtycXYkSGGB"
      },
      "source": [
        "# What is NumPy and How to Import It\n",
        "NumPy is a powerful library for numerical operations in Python, adding support for large multi-dimensional arrays and matrices. It's widely used in scientific and engineering tasks. To start using NumPy, you'll simply import it"
      ]
    },
    {
      "cell_type": "code",
      "execution_count": null,
      "metadata": {
        "id": "gA19HJM4SGGE"
      },
      "outputs": [],
      "source": [
        "import numpy as np"
      ]
    },
    {
      "cell_type": "markdown",
      "metadata": {
        "id": "QoBY-EYwSGGF"
      },
      "source": [
        "We have imported this pakage and abbrevated its name to np, since it is easier to write.\n",
        "In order to assign values to the variables we use ' = ' sign."
      ]
    },
    {
      "cell_type": "code",
      "execution_count": null,
      "metadata": {
        "id": "IS9L8sdJSGGF"
      },
      "outputs": [],
      "source": [
        "v = 5\n",
        "[a, b,] = [3, 4,]"
      ]
    },
    {
      "cell_type": "markdown",
      "metadata": {
        "id": "9wiROYR8SGGG"
      },
      "source": [
        "If we want to display the value of the variable we simply call it:"
      ]
    },
    {
      "cell_type": "code",
      "execution_count": null,
      "metadata": {
        "id": "vflM24SSSGGG",
        "colab": {
          "base_uri": "https://localhost:8080/"
        },
        "outputId": "629ef28f-d590-4370-9b06-ebf770ca95c1"
      },
      "outputs": [
        {
          "output_type": "stream",
          "name": "stdout",
          "text": [
            "5\n",
            "3\n",
            "4\n"
          ]
        }
      ],
      "source": [
        "print(v)\n",
        "print(a)\n",
        "print(b)"
      ]
    },
    {
      "cell_type": "markdown",
      "metadata": {
        "id": "-hbJ1WTySGGG"
      },
      "source": [
        "# Order of Precedence\n",
        "Python adheres to the standard order of precedence for mathematical operations. This order defines the sequence in which operations are performed in an expression, ensuring that calculations are carried out accurately.\n",
        "\n",
        "Here are the basic math operations in Python, listed in descending order of priority:\n",
        "\n",
        "| Symbol | Operation |\n",
        "| --- | --- |\n",
        "|** | Exponentiation|\n",
        "| \\* | Multiplication |\n",
        "| / | right Division (a/b means a divided by b)|\n",
        "| \\+  | Addition|\n",
        "| \\- | Subtraction|\n",
        "\n",
        "When you write expressions with multiple operations, Python will evaluate them according to this precedence. This allows for complex expressions to be computed accurately and consistently.\n",
        "\n",
        "Please note that in the case of operators with the same level of precedence, the expression is evaluated from left to right."
      ]
    },
    {
      "cell_type": "code",
      "execution_count": null,
      "metadata": {
        "id": "67M3xzJZSGGH",
        "colab": {
          "base_uri": "https://localhost:8080/"
        },
        "outputId": "c61c2eaf-46c2-4eae-d140-23acdef467e4"
      },
      "outputs": [
        {
          "output_type": "execute_result",
          "data": {
            "text/plain": [
              "32"
            ]
          },
          "metadata": {},
          "execution_count": 4
        }
      ],
      "source": [
        "2**5"
      ]
    },
    {
      "cell_type": "code",
      "execution_count": null,
      "metadata": {
        "id": "flw52cYdSGGH",
        "colab": {
          "base_uri": "https://localhost:8080/"
        },
        "outputId": "d74a30ec-cfac-41c2-ae72-a0e6585fe1eb"
      },
      "outputs": [
        {
          "output_type": "execute_result",
          "data": {
            "text/plain": [
              "40"
            ]
          },
          "metadata": {},
          "execution_count": 5
        }
      ],
      "source": [
        "8*5"
      ]
    },
    {
      "cell_type": "code",
      "execution_count": null,
      "metadata": {
        "id": "xWd5wHhjSGGH",
        "colab": {
          "base_uri": "https://localhost:8080/"
        },
        "outputId": "97a2f245-4324-4871-de2b-96b9d6b7e390"
      },
      "outputs": [
        {
          "output_type": "execute_result",
          "data": {
            "text/plain": [
              "2.0"
            ]
          },
          "metadata": {},
          "execution_count": 6
        }
      ],
      "source": [
        "8/4"
      ]
    },
    {
      "cell_type": "code",
      "execution_count": null,
      "metadata": {
        "id": "XmDIKuqkSGGH",
        "colab": {
          "base_uri": "https://localhost:8080/"
        },
        "outputId": "598af174-a720-41be-e2eb-ec92eeb9a72a"
      },
      "outputs": [
        {
          "output_type": "execute_result",
          "data": {
            "text/plain": [
              "13"
            ]
          },
          "metadata": {},
          "execution_count": 7
        }
      ],
      "source": [
        "8+5"
      ]
    },
    {
      "cell_type": "code",
      "execution_count": null,
      "metadata": {
        "id": "0AKY9ocJSGGH",
        "colab": {
          "base_uri": "https://localhost:8080/"
        },
        "outputId": "213539d4-d01f-4005-8800-42f1e61b9510"
      },
      "outputs": [
        {
          "output_type": "execute_result",
          "data": {
            "text/plain": [
              "3"
            ]
          },
          "metadata": {},
          "execution_count": 8
        }
      ],
      "source": [
        "8-5"
      ]
    },
    {
      "cell_type": "code",
      "execution_count": null,
      "metadata": {
        "id": "pXJQOjU7SGGI",
        "colab": {
          "base_uri": "https://localhost:8080/"
        },
        "outputId": "c6921830-bd46-409e-e162-971ed04ee4c7"
      },
      "outputs": [
        {
          "output_type": "execute_result",
          "data": {
            "text/plain": [
              "12"
            ]
          },
          "metadata": {},
          "execution_count": 9
        }
      ],
      "source": [
        "7 + 1*5"
      ]
    },
    {
      "cell_type": "code",
      "execution_count": null,
      "metadata": {
        "id": "HyW8w796SGGI",
        "colab": {
          "base_uri": "https://localhost:8080/"
        },
        "outputId": "18f24ae7-a443-4c11-8ef4-94a5273d2bf8"
      },
      "outputs": [
        {
          "output_type": "execute_result",
          "data": {
            "text/plain": [
              "12"
            ]
          },
          "metadata": {},
          "execution_count": 10
        }
      ],
      "source": [
        "7 + (1*5)"
      ]
    },
    {
      "cell_type": "code",
      "execution_count": null,
      "metadata": {
        "id": "lPWOMGkUSGGI",
        "colab": {
          "base_uri": "https://localhost:8080/"
        },
        "outputId": "fa917925-26ca-4353-dc0d-cd975ad5e425"
      },
      "outputs": [
        {
          "output_type": "execute_result",
          "data": {
            "text/plain": [
              "40"
            ]
          },
          "metadata": {},
          "execution_count": 11
        }
      ],
      "source": [
        "(7+1) * 5"
      ]
    },
    {
      "cell_type": "code",
      "execution_count": null,
      "metadata": {
        "scrolled": true,
        "id": "NUJcIpEiSGGI",
        "colab": {
          "base_uri": "https://localhost:8080/"
        },
        "outputId": "cac44be1-710f-44b3-d07e-b7e22590e7ea"
      },
      "outputs": [
        {
          "output_type": "execute_result",
          "data": {
            "text/plain": [
              "9.691708342090745"
            ]
          },
          "metadata": {},
          "execution_count": 12
        }
      ],
      "source": [
        "6**(1/7) + 12*0.7"
      ]
    },
    {
      "cell_type": "code",
      "source": [
        "6**1/7 + 12*0.7"
      ],
      "metadata": {
        "colab": {
          "base_uri": "https://localhost:8080/"
        },
        "id": "vJeuImO2C1FS",
        "outputId": "4ea9ddd0-7421-4f86-8de2-d7789442e342"
      },
      "execution_count": null,
      "outputs": [
        {
          "output_type": "execute_result",
          "data": {
            "text/plain": [
              "9.257142857142856"
            ]
          },
          "metadata": {},
          "execution_count": 13
        }
      ]
    },
    {
      "cell_type": "code",
      "execution_count": null,
      "metadata": {
        "id": "9aZtc1AfSGGI",
        "colab": {
          "base_uri": "https://localhost:8080/"
        },
        "outputId": "61bab3ff-94c7-4086-8490-5e92c2767de7"
      },
      "outputs": [
        {
          "output_type": "execute_result",
          "data": {
            "text/plain": [
              "5"
            ]
          },
          "metadata": {},
          "execution_count": 14
        }
      ],
      "source": [
        "x = 5\n",
        "x"
      ]
    },
    {
      "cell_type": "code",
      "execution_count": null,
      "metadata": {
        "id": "oEQHArdiSGGI",
        "colab": {
          "base_uri": "https://localhost:8080/"
        },
        "outputId": "3dece329-3121-499f-e65b-a73814b6d22a"
      },
      "outputs": [
        {
          "output_type": "execute_result",
          "data": {
            "text/plain": [
              "7"
            ]
          },
          "metadata": {},
          "execution_count": 15
        }
      ],
      "source": [
        "x = x + 2\n",
        "x"
      ]
    },
    {
      "cell_type": "code",
      "execution_count": null,
      "metadata": {
        "id": "GG8rnYE4SGGI",
        "colab": {
          "base_uri": "https://localhost:8080/"
        },
        "outputId": "c6c422fd-2f89-4a6f-d42d-c7d783179d74"
      },
      "outputs": [
        {
          "output_type": "execute_result",
          "data": {
            "text/plain": [
              "7"
            ]
          },
          "metadata": {},
          "execution_count": 16
        }
      ],
      "source": [
        "x = 5\n",
        "x+=2 # x = x + 2\n",
        "x"
      ]
    },
    {
      "cell_type": "markdown",
      "metadata": {
        "id": "zFNoNuS6SGGI"
      },
      "source": [
        "Now it is your turn to calculate the following equations:\n",
        "\n",
        "$8(\\frac{9}{55}) + \\frac{6}{5\\times4}+ 2^4$"
      ]
    },
    {
      "cell_type": "code",
      "execution_count": null,
      "metadata": {
        "id": "_4g8E-v-SGGI"
      },
      "outputs": [],
      "source": []
    },
    {
      "cell_type": "markdown",
      "metadata": {
        "id": "H11pwSzOSGGJ"
      },
      "source": [
        "**Tank Design**\n",
        "\n",
        "The volume $V$ of a cone with height $h$ and radius $r$ is given by the formula\n",
        "$V = \\frac{1}{3} \\pi r^2 h$.\n",
        "\n",
        "Suppose there's a particular conical tank that is 10 m tall and has a radius of 5 m. We want to construct another conical tank with a volume that is 30% less but has the same height.\n",
        "\n",
        "**How large must its radius be?**\n"
      ]
    },
    {
      "cell_type": "markdown",
      "metadata": {
        "id": "yvDTQw82SGGJ"
      },
      "source": [
        "$r = \\sqrt{\\frac{3V}{\\pi h}}$"
      ]
    },
    {
      "cell_type": "code",
      "execution_count": null,
      "metadata": {
        "id": "YKYH1nB4SGGJ"
      },
      "outputs": [],
      "source": [
        "import numpy as np\n",
        "\n",
        "h = 10  # height in meters\n",
        "r = 5   # radius in meters"
      ]
    },
    {
      "cell_type": "code",
      "execution_count": null,
      "metadata": {
        "id": "bIIEDwj0SGGJ"
      },
      "outputs": [],
      "source": [
        "V_original = (1/3) * np.pi * r**2 * h"
      ]
    },
    {
      "cell_type": "code",
      "execution_count": null,
      "metadata": {
        "id": "7ma1UMOISGGJ",
        "colab": {
          "base_uri": "https://localhost:8080/"
        },
        "outputId": "3c76534a-01b4-4561-ddea-204657b03f69"
      },
      "outputs": [
        {
          "output_type": "execute_result",
          "data": {
            "text/plain": [
              "261.79938779914943"
            ]
          },
          "metadata": {},
          "execution_count": 20
        }
      ],
      "source": [
        "V_original"
      ]
    },
    {
      "cell_type": "code",
      "execution_count": null,
      "metadata": {
        "id": "avEoggU8SGGJ",
        "colab": {
          "base_uri": "https://localhost:8080/"
        },
        "outputId": "302c1897-98b0-4988-fabf-953030145b48"
      },
      "outputs": [
        {
          "output_type": "execute_result",
          "data": {
            "text/plain": [
              "183.25957145940458"
            ]
          },
          "metadata": {},
          "execution_count": 21
        }
      ],
      "source": [
        "V_new = 0.70 * V_original\n",
        "V_new"
      ]
    },
    {
      "cell_type": "code",
      "execution_count": null,
      "metadata": {
        "id": "7XX-_yqISGGJ"
      },
      "outputs": [],
      "source": [
        "r_new = np.sqrt(V_new * 3 / (np.pi * h))"
      ]
    },
    {
      "cell_type": "code",
      "execution_count": null,
      "metadata": {
        "id": "Da61yq9mSGGJ",
        "colab": {
          "base_uri": "https://localhost:8080/"
        },
        "outputId": "d795e4c2-a69d-4ed1-f69e-5a6f9af24b2c"
      },
      "outputs": [
        {
          "output_type": "execute_result",
          "data": {
            "text/plain": [
              "4.183300132670378"
            ]
          },
          "metadata": {},
          "execution_count": 23
        }
      ],
      "source": [
        "r_new"
      ]
    },
    {
      "cell_type": "markdown",
      "metadata": {
        "id": "uksvKYzsSGGJ"
      },
      "source": [
        "It is better to carefully choose sophisticated names for variable; CallMeCrazy or call_me_crazy"
      ]
    },
    {
      "cell_type": "markdown",
      "metadata": {
        "id": "lh-4dfYWSGGJ"
      },
      "source": [
        "# Complex numbers\n",
        "\n",
        "Complex numbers consist of a real and imaginary part, and they have unique applications in various mathematical computations.\n",
        "\n",
        "In the representation of complex numbers, $c = a \\pm bj$, where $a$ and $b$ are real numbers, and $j$ represents the imaginary unit.\n",
        "The following table provides the functions to access different parts of the complex number $c$ :\n",
        "\n",
        "| Description       | Function      | Explanation                                    |\n",
        "|-------------------|---------------|------------------------------------------------|\n",
        "| Real Part of $c$ | `np.real(c)` | Returns the real part of the complex number $c$ |\n",
        "| Imaginary Part of $c$ | `np.imag(c)` | Returns the imaginary part of the complex number $c$|\n",
        "| Phase (or Argument) of $c$ | `np.angle(c)` | Returns the phase angle (argument) of the complex number $c$ in radians |\n"
      ]
    },
    {
      "cell_type": "code",
      "execution_count": null,
      "metadata": {
        "id": "UMux17OwSGGJ"
      },
      "outputs": [],
      "source": [
        "a = 5+1.5j\n",
        "b = 6 -9j"
      ]
    },
    {
      "cell_type": "code",
      "source": [
        "a\n",
        "b"
      ],
      "metadata": {
        "colab": {
          "base_uri": "https://localhost:8080/"
        },
        "id": "iDlTrjNwFRX9",
        "outputId": "dfd46372-6eec-427c-b1be-5a0c912cc1ca"
      },
      "execution_count": null,
      "outputs": [
        {
          "output_type": "stream",
          "name": "stdout",
          "text": [
            "(5+1.5j)\n"
          ]
        },
        {
          "output_type": "execute_result",
          "data": {
            "text/plain": [
              "(6-9j)"
            ]
          },
          "metadata": {},
          "execution_count": 26
        }
      ]
    },
    {
      "cell_type": "code",
      "execution_count": null,
      "metadata": {
        "id": "Bfobg9d7SGGJ",
        "colab": {
          "base_uri": "https://localhost:8080/"
        },
        "outputId": "869169fb-63f8-4d1d-9cef-d1ec7799b804"
      },
      "outputs": [
        {
          "output_type": "execute_result",
          "data": {
            "text/plain": [
              "(5.0, 1.5, 0.2914567944778671)"
            ]
          },
          "metadata": {},
          "execution_count": 27
        }
      ],
      "source": [
        "np.real(a),np.imag(a),np.angle(a)"
      ]
    },
    {
      "cell_type": "markdown",
      "metadata": {
        "id": "3D6-IB68SGGK"
      },
      "source": [
        "- Addition(or substraction)"
      ]
    },
    {
      "cell_type": "code",
      "execution_count": null,
      "metadata": {
        "id": "TtkiVdnSSGGK",
        "colab": {
          "base_uri": "https://localhost:8080/"
        },
        "outputId": "db7da3df-fdc5-4c90-806d-f4868d80558e"
      },
      "outputs": [
        {
          "output_type": "execute_result",
          "data": {
            "text/plain": [
              "((11-7.5j), 11.0, -7.5, -0.5984188934785372)"
            ]
          },
          "metadata": {},
          "execution_count": 28
        }
      ],
      "source": [
        "c = a + b\n",
        "c,np.real(c),np.imag(c),np.angle(c)"
      ]
    },
    {
      "cell_type": "markdown",
      "metadata": {
        "id": "xFOLei-uSGGK"
      },
      "source": [
        "- multiplication"
      ]
    },
    {
      "cell_type": "code",
      "execution_count": null,
      "metadata": {
        "id": "WFV3Vh9JSGGK",
        "colab": {
          "base_uri": "https://localhost:8080/"
        },
        "outputId": "3d1797cb-99a1-44f8-b8b1-980e44ff8f2f"
      },
      "outputs": [
        {
          "output_type": "execute_result",
          "data": {
            "text/plain": [
              "((43.5-36j), 43.5, -36.0, -0.691336928769462)"
            ]
          },
          "metadata": {},
          "execution_count": 29
        }
      ],
      "source": [
        "d = a * b\n",
        "d ,np.real(d),np.imag(d),np.angle(d)"
      ]
    },
    {
      "cell_type": "markdown",
      "metadata": {
        "id": "QVZBsYweSGGK"
      },
      "source": [
        "- devision"
      ]
    },
    {
      "cell_type": "code",
      "execution_count": null,
      "metadata": {
        "id": "mC6p7cW4SGGK",
        "colab": {
          "base_uri": "https://localhost:8080/"
        },
        "outputId": "8ee8e02d-3bb8-4035-bdf4-000e24924183"
      },
      "outputs": [
        {
          "output_type": "execute_result",
          "data": {
            "text/plain": [
              "((0.141025641025641+0.46153846153846156j),\n",
              " 0.141025641025641,\n",
              " 0.46153846153846156,\n",
              " 1.2742505177251962)"
            ]
          },
          "metadata": {},
          "execution_count": 30
        }
      ],
      "source": [
        "e = a / b\n",
        "e,np.real(e),np.imag(e),np.angle(e)"
      ]
    },
    {
      "cell_type": "markdown",
      "metadata": {
        "id": "PPCQV6c1SGGO"
      },
      "source": [
        "# Rounding\n",
        "\n",
        "NumPy offers a diverse set of functions for rounding numbers, allowing for precision and control over numerical calculations. These functions provide different ways to round numbers to various degrees of precision or specific mathematical rules. Whether you need to round to a given number of decimals or apply floor and ceiling operations, NumPy has a function to suit your needs.\n",
        "\n",
        "| Function | Description |\n",
        "| --- | --- |\n",
        "| numpy.round(x, decimals=0)| Round an array to the given number of decimals. |\n",
        "| numpy.floor(x) | Return the largest integer less than or equal to the input, element-wise. |\n",
        "| numpy.ceil(x) | Return the smallest integer greater than or equal to the input, element-wise. |\n",
        "| numpy.fix(x) |Round to the nearest integer towards zero, effectively truncating the decimal part. |\n",
        "| numpy.rint(x) | Round elements of the array to the nearest integer, using the standard rounding rules. |\n",
        "| numpy.trunc(x) | Return the truncated value of the input, element-wise, discarding the fractional part of the signed number. |"
      ]
    },
    {
      "cell_type": "code",
      "execution_count": null,
      "metadata": {
        "id": "NGx483l4SGGO",
        "colab": {
          "base_uri": "https://localhost:8080/"
        },
        "outputId": "2a298d75-9c11-492f-e15b-0033ba2b40b2"
      },
      "outputs": [
        {
          "output_type": "stream",
          "name": "stdout",
          "text": [
            "Input array : \n",
            " [-2.35  -2.    -1.7   -1.5   -0.9   -0.2   -0.035  0.035  0.2    0.9\n",
            "  1.5    1.7    2.     2.35 ]\n"
          ]
        }
      ],
      "source": [
        "x = np.array([-2.35, -2.0, -1.7, -1.5, -0.9, -0.2, -0.035, 0.035, 0.2, 0.9, 1.5, 1.7, 2.0, 2.35])\n",
        "print (\"Input array : \\n\", x)"
      ]
    },
    {
      "cell_type": "code",
      "execution_count": null,
      "metadata": {
        "id": "-xgNlsYaSGGO",
        "colab": {
          "base_uri": "https://localhost:8080/"
        },
        "outputId": "abda5da4-5fe0-402b-8fa6-d4efa1c8dd67"
      },
      "outputs": [
        {
          "output_type": "stream",
          "name": "stdout",
          "text": [
            "Rounded values : \n",
            " [-2.4 -2.  -1.7 -1.5 -0.9 -0.2 -0.   0.   0.2  0.9  1.5  1.7  2.   2.4]\n",
            "Floor values : \n",
            " [-3. -2. -2. -2. -1. -1. -1.  0.  0.  0.  1.  1.  2.  2.]\n",
            "Ceil values : \n",
            " [-2. -2. -1. -1. -0. -0. -0.  1.  1.  1.  2.  2.  2.  3.]\n",
            "Fix values : \n",
            " [-2. -2. -1. -1. -0. -0. -0.  0.  0.  0.  1.  1.  2.  2.]\n",
            "Rint values : \n",
            " [-2. -2. -2. -2. -1. -0. -0.  0.  0.  1.  2.  2.  2.  2.]\n",
            "Trunc values : \n",
            " [-2. -2. -1. -1. -0. -0. -0.  0.  0.  0.  1.  1.  2.  2.]\n"
          ]
        }
      ],
      "source": [
        "round_values = np.round_(x, decimals= 1 )\n",
        "print (\"Rounded values : \\n\", round_values)\n",
        "floor_values = np.floor(x)\n",
        "print (\"Floor values : \\n\", floor_values)\n",
        "ceil_values = np.ceil(x)\n",
        "print (\"Ceil values : \\n\", ceil_values)\n",
        "fix_values = np.fix(x)\n",
        "print (\"Fix values : \\n\", fix_values)\n",
        "rint_values = np.rint(x)\n",
        "print (\"Rint values : \\n\", rint_values)\n",
        "trunc_values = np.trunc(x)\n",
        "print (\"Trunc values : \\n\", trunc_values)"
      ]
    },
    {
      "cell_type": "markdown",
      "source": [
        "#Generating Arrays and Matrices\n",
        "Arrays and matrices are foundational structures in numerical computing. With NumPy, you can generate arrays with regularly spaced elements and define matrices with different dimensions. These can be used for a wide variety of mathematical operations."
      ],
      "metadata": {
        "id": "2XK5jS_qBOID"
      }
    },
    {
      "cell_type": "markdown",
      "metadata": {
        "id": "pXlKFKgNSGGO"
      },
      "source": [
        "## Regularly spaced elements\n",
        "In numerical computations, it's often necessary to create arrays with regularly spaced elements. NumPy provides functions to generate such arrays, whether you need linear spacing or logarithmic spacing. These functions are particularly useful for tasks like sampling data within a specified range or creating coordinate vectors.\n",
        "\n",
        "| Function                             | Description                   |\n",
        "|--------------------------------------|-------------------------------|\n",
        "| numpy.linspace(start, end, num=50)   | Generates `num` evenly spaced values from `start` to `end`, inclusive. Default spacing is equal to 50. |\n",
        "| numpy.logspace(start, end, num=50)   | Generates `num` logarithmically spaced values between powers of 10 from `start` to `end`. Default spacing is equal to 50. |\n",
        "\n"
      ]
    },
    {
      "cell_type": "code",
      "execution_count": null,
      "metadata": {
        "id": "bw5MtQjgSGGO",
        "colab": {
          "base_uri": "https://localhost:8080/"
        },
        "outputId": "e50fa429-5d1c-4547-8a5f-184a663db4ca"
      },
      "outputs": [
        {
          "output_type": "execute_result",
          "data": {
            "text/plain": [
              "array([ 1.        ,  1.18367347,  1.36734694,  1.55102041,  1.73469388,\n",
              "        1.91836735,  2.10204082,  2.28571429,  2.46938776,  2.65306122,\n",
              "        2.83673469,  3.02040816,  3.20408163,  3.3877551 ,  3.57142857,\n",
              "        3.75510204,  3.93877551,  4.12244898,  4.30612245,  4.48979592,\n",
              "        4.67346939,  4.85714286,  5.04081633,  5.2244898 ,  5.40816327,\n",
              "        5.59183673,  5.7755102 ,  5.95918367,  6.14285714,  6.32653061,\n",
              "        6.51020408,  6.69387755,  6.87755102,  7.06122449,  7.24489796,\n",
              "        7.42857143,  7.6122449 ,  7.79591837,  7.97959184,  8.16326531,\n",
              "        8.34693878,  8.53061224,  8.71428571,  8.89795918,  9.08163265,\n",
              "        9.26530612,  9.44897959,  9.63265306,  9.81632653, 10.        ])"
            ]
          },
          "metadata": {},
          "execution_count": 33
        }
      ],
      "source": [
        "np.linspace(1, 10)"
      ]
    },
    {
      "cell_type": "code",
      "execution_count": null,
      "metadata": {
        "id": "aRnBXQfRSGGO",
        "colab": {
          "base_uri": "https://localhost:8080/"
        },
        "outputId": "03860db2-58cd-41da-bbe1-ff0bc8c50348"
      },
      "outputs": [
        {
          "output_type": "execute_result",
          "data": {
            "text/plain": [
              "array([ 1.,  2.,  3.,  4.,  5.,  6.,  7.,  8.,  9., 10.])"
            ]
          },
          "metadata": {},
          "execution_count": 34
        }
      ],
      "source": [
        "np.linspace(1, 10, num=10)"
      ]
    },
    {
      "cell_type": "code",
      "execution_count": null,
      "metadata": {
        "id": "CtDWMVIpSGGO",
        "colab": {
          "base_uri": "https://localhost:8080/"
        },
        "outputId": "9a2e18cc-5ff8-4c5f-d4b0-e15b99334558"
      },
      "outputs": [
        {
          "output_type": "execute_result",
          "data": {
            "text/plain": [
              "array([-10.        ,  -9.16666667,  -8.33333333,  -7.5       ,\n",
              "        -6.66666667,  -5.83333333,  -5.        ,  -4.16666667,\n",
              "        -3.33333333,  -2.5       ,  -1.66666667,  -0.83333333,\n",
              "         0.        ,   0.83333333,   1.66666667,   2.5       ,\n",
              "         3.33333333,   4.16666667,   5.        ,   5.83333333,\n",
              "         6.66666667,   7.5       ,   8.33333333,   9.16666667,\n",
              "        10.        ])"
            ]
          },
          "metadata": {},
          "execution_count": 39
        }
      ],
      "source": [
        "np.linspace(-10, 10, 25)"
      ]
    },
    {
      "cell_type": "code",
      "execution_count": null,
      "metadata": {
        "id": "dfSE1MclSGGO",
        "colab": {
          "base_uri": "https://localhost:8080/"
        },
        "outputId": "22f5ff2b-2a68-4be0-8adb-826702ccbde7"
      },
      "outputs": [
        {
          "output_type": "execute_result",
          "data": {
            "text/plain": [
              "(array([1.00000000e-02, 1.75751062e-02, 3.08884360e-02, 5.42867544e-02,\n",
              "        9.54095476e-02, 1.67683294e-01, 2.94705170e-01, 5.17947468e-01,\n",
              "        9.10298178e-01, 1.59985872e+00, 2.81176870e+00, 4.94171336e+00,\n",
              "        8.68511374e+00, 1.52641797e+01, 2.68269580e+01, 4.71486636e+01,\n",
              "        8.28642773e+01, 1.45634848e+02, 2.55954792e+02, 4.49843267e+02,\n",
              "        7.90604321e+02, 1.38949549e+03, 2.44205309e+03, 4.29193426e+03,\n",
              "        7.54312006e+03, 1.32571137e+04, 2.32995181e+04, 4.09491506e+04,\n",
              "        7.19685673e+04, 1.26485522e+05, 2.22299648e+05, 3.90693994e+05,\n",
              "        6.86648845e+05, 1.20679264e+06, 2.12095089e+06, 3.72759372e+06,\n",
              "        6.55128557e+06, 1.15139540e+07, 2.02358965e+07, 3.55648031e+07,\n",
              "        6.25055193e+07, 1.09854114e+08, 1.93069773e+08, 3.39322177e+08,\n",
              "        5.96362332e+08, 1.04811313e+09, 1.84206997e+09, 3.23745754e+09,\n",
              "        5.68986603e+09, 1.00000000e+10]),\n",
              " array([1.00000000e-02, 2.15443469e-01, 4.64158883e+00, 1.00000000e+02,\n",
              "        2.15443469e+03, 4.64158883e+04, 1.00000000e+06, 2.15443469e+07,\n",
              "        4.64158883e+08, 1.00000000e+10]))"
            ]
          },
          "metadata": {},
          "execution_count": 40
        }
      ],
      "source": [
        "np.logspace(-2, 10), np.logspace(-2, 10, num=10)"
      ]
    },
    {
      "cell_type": "markdown",
      "metadata": {
        "id": "TOG7g7o6SGGO"
      },
      "source": [
        "## Alternative of Regularly Spaced Elements\n",
        "\n",
        "When working with regularly spaced elements, you have alternatives besides the `linspace` and `logspace` functions. For simple sequences of integers, Python's built-in `range` function can be used. For more flexibility with floating-point numbers and customized spacing, NumPy's `arange` function is available. These alternatives provide different ways to generate sequences based on your specific needs.\n",
        "\n",
        "| Function                         | Description                                                                           |\n",
        "|----------------------------------|---------------------------------------------------------------------------------------|\n",
        "| `list(range([start, ]stop, [step, ]))` | Creates a list of integers from `start` to `stop-1`, incrementing by `step`. The `start` and `step` parameters are optional. |\n",
        "| `numpy.arange([start, ]stop, [step, ])` | Generates an array with evenly spaced values from `start` to `stop-1`, incrementing by `step`. All parameters are optional, allowing for control over the starting value, stopping value, and step size. |\n"
      ]
    },
    {
      "cell_type": "code",
      "execution_count": null,
      "metadata": {
        "id": "cSSrT8TXSGGP",
        "colab": {
          "base_uri": "https://localhost:8080/"
        },
        "outputId": "a4deac1a-f7c9-4129-c013-f3840b9df94e"
      },
      "outputs": [
        {
          "output_type": "execute_result",
          "data": {
            "text/plain": [
              "[2, 4, 6, 8, 10, 12, 14, 16, 18, 20, 22, 24, 26, 28]"
            ]
          },
          "metadata": {},
          "execution_count": 41
        }
      ],
      "source": [
        "list(range(2, 30, 2))"
      ]
    },
    {
      "cell_type": "code",
      "execution_count": null,
      "metadata": {
        "scrolled": true,
        "id": "iYqvMc1jSGGP",
        "colab": {
          "base_uri": "https://localhost:8080/"
        },
        "outputId": "ef2a3dea-69f1-4e37-d9f2-516ad198b9e9"
      },
      "outputs": [
        {
          "output_type": "execute_result",
          "data": {
            "text/plain": [
              "array([ 2,  4,  6,  8, 10, 12, 14, 16, 18, 20, 22, 24, 26, 28])"
            ]
          },
          "metadata": {},
          "execution_count": 42
        }
      ],
      "source": [
        "np.arange(2, 30, 2)"
      ]
    },
    {
      "cell_type": "code",
      "source": [
        "np.arange(30, 2, -2)"
      ],
      "metadata": {
        "colab": {
          "base_uri": "https://localhost:8080/"
        },
        "id": "ezsVJMBKICKx",
        "outputId": "6f5eb227-77c7-4761-9412-dfdfe63b822f"
      },
      "execution_count": null,
      "outputs": [
        {
          "output_type": "execute_result",
          "data": {
            "text/plain": [
              "array([30, 28, 26, 24, 22, 20, 18, 16, 14, 12, 10,  8,  6,  4])"
            ]
          },
          "metadata": {},
          "execution_count": 43
        }
      ]
    },
    {
      "cell_type": "markdown",
      "metadata": {
        "id": "Smi3gRtWSGGP"
      },
      "source": [
        "## Creating Arrays of Different Dimensions\n",
        "\n",
        "Creating arrays of different dimensions is a fundamental operation in numerical computing. With NumPy's `np.array()` function, you can create arrays with any number of dimensions.\n",
        "\n",
        "\n",
        "| Dimension | Example               | Description  |\n",
        "|-----------|-----------------------|--------------|\n",
        "| 0-D       | `np.array(value)`     | Single value |\n",
        "| 1-D       | `np.array([v1, v2])`  | Vector       |\n",
        "| 2-D       | `np.array([[r1], [r2]])`| Matrix     |\n",
        "| 3-D       | `np.array([[[r1], [r2]]])`| Collection of matrices |\n",
        "\n",
        "- `Dimension = A.ndim` will give the number of dimensions of the array `A`.\n",
        "- `[row, col] = A.shape` will give the number of rows and columns for 2-D arrays, or more generally, the size of each dimension.\n",
        "\n",
        "These examples demonstrate the flexibility of NumPy in handling multi-dimensional data, allowing for complex computations and data manipulations.\n"
      ]
    },
    {
      "cell_type": "code",
      "execution_count": null,
      "metadata": {
        "id": "eFYHX7VZSGGP",
        "colab": {
          "base_uri": "https://localhost:8080/"
        },
        "outputId": "71f47c5a-3dce-4bc0-ce6e-ab5c977dfd38"
      },
      "outputs": [
        {
          "output_type": "stream",
          "name": "stdout",
          "text": [
            "____________________________________________________________\n",
            "0-D dimension or single value D0:\n",
            " 987654\n",
            "Dimension of D0: 0\n",
            "Shape of D0: ()\n",
            "____________________________________________________________\n",
            "1-D array or Vector D1:\n",
            " [   1    2    5 1000]\n",
            "Dimension of D1: 1\n",
            "Shape of D1: (4,)\n",
            "____________________________________________________________\n",
            "2-D array or Matrix D2:\n",
            " [[12 23 34]\n",
            " [45 56 67]]\n",
            "Dimension of D2: 2\n",
            "Shape of D2: (2, 3)\n",
            "____________________________________________________________\n",
            "3-D array or Collection of matrices D3:\n",
            " [[[100 200 300]\n",
            "  [400 500 600]]\n",
            "\n",
            " [[700 800 900]\n",
            "  [ 10  20  30]]]\n",
            "Dimension of D3: 3\n",
            "Shape of D3: (2, 2, 3)\n",
            "____________________________________________________________\n"
          ]
        }
      ],
      "source": [
        "print('____________________________________________________________')\n",
        "# Creating a 0-D array or single value\n",
        "D0 = np.array(987654)\n",
        "print(\"0-D dimension or single value D0:\\n\", D0)\n",
        "print(\"Dimension of D0:\", D0.ndim) # Dimension check\n",
        "print(\"Shape of D0:\", D0.shape) # Shape check\n",
        "print('____________________________________________________________')\n",
        "\n",
        "# Creating a 1-D array or Vector\n",
        "D1 = np.array([1, 2, 5, 1000])\n",
        "print(\"1-D array or Vector D1:\\n\", D1)\n",
        "print(\"Dimension of D1:\", D1.ndim) # Dimension check\n",
        "print(\"Shape of D1:\", D1.shape) # Shape check\n",
        "print('____________________________________________________________')\n",
        "\n",
        "# Creating a 2-D array or Matrix\n",
        "D2 = np.array([ [12, 23, 34], [45, 56, 67] ])\n",
        "print(\"2-D array or Matrix D2:\\n\", D2)\n",
        "print(\"Dimension of D2:\", D2.ndim) # Dimension check\n",
        "print(\"Shape of D2:\", D2.shape) # Shape check\n",
        "print('____________________________________________________________')\n",
        "\n",
        "# Creating a 3-D array or Collection of matrices\n",
        "D3 = np.array([ [[100, 200, 300], [400, 500, 600]], [[700, 800, 900], [10, 20, 30]] ])\n",
        "print(\"3-D array or Collection of matrices D3:\\n\", D3)\n",
        "print(\"Dimension of D3:\", D3.ndim) # Dimension check\n",
        "print(\"Shape of D3:\", D3.shape) # Shape check\n",
        "print('____________________________________________________________')"
      ]
    },
    {
      "cell_type": "code",
      "source": [
        "(D0,D1,D2,D3)"
      ],
      "metadata": {
        "colab": {
          "base_uri": "https://localhost:8080/"
        },
        "id": "r5Y7iKtU4MC9",
        "outputId": "2e7c038a-0845-4a7f-b3f7-a384aec8505e"
      },
      "execution_count": null,
      "outputs": [
        {
          "output_type": "execute_result",
          "data": {
            "text/plain": [
              "(array(987654),\n",
              " array([   1,    2,    5, 1000]),\n",
              " array([[12, 23, 34],\n",
              "        [45, 56, 67]]),\n",
              " array([[[100, 200, 300],\n",
              "         [400, 500, 600]],\n",
              " \n",
              "        [[700, 800, 900],\n",
              "         [ 10,  20,  30]]]))"
            ]
          },
          "metadata": {},
          "execution_count": 45
        }
      ]
    },
    {
      "cell_type": "markdown",
      "metadata": {
        "id": "n02945VHSGGP"
      },
      "source": [
        "# Commonly used functions in Engineering\n",
        "In engineering and scientific computations, certain mathematical functions are used frequently. These include trigonometric operations, logarithmic functions, exponential calculations, and others. Understanding how to use these functions efficiently can be crucial in solving complex mathematical problems. NumPy provides a set of functions that correspond to these common operations, making mathematical computations in Python both intuitive and efficient. The table below summarizes some of the most commonly used functions in engineering, including their NumPy equivalents and brief descriptions.\n",
        "\n",
        "| Operation                  | Function          | Description                                   |\n",
        "|----------------------------|-------------------|-----------------------------------------------|\n",
        "| Natural logarithm (ln)     | `np.log(x)`       | Returns the natural logarithm of `x`          |\n",
        "| Common logarithm (log)     | `np.log10(x)`     | Returns the base-10 logarithm of `x`          |\n",
        "| Exponential (e)            | `np.exp(x)`       | Returns `e` raised to the power of `x`        |\n",
        "| Square root (sqrt)         | `np.sqrt(x)`      | Returns the square root of `x`                |\n",
        "| Cosine (cos)               | `np.cos(x)`       | Returns the cosine of `x` (in radians)        |\n",
        "| Sine (sin)                 | `np.sin(x)`       | Returns the sine of `x` (in radians)          |\n",
        "| Tangent (tan)              | `np.tan(x)`       | Returns the tangent of `x` (in radians)       |\n",
        "| Inverse cosine (cos⁻¹)     | `np.arccos(x)`    | Returns the arccosine of `x` (in radians)     |\n",
        "| Inverse sine (sin⁻¹)       | `np.arcsin(x)`    | Returns the arcsine of `x` (in radians)       |\n",
        "| Inverse tangent (tan⁻¹)    | `np.arctan(x)`    | Returns the arctangent of `x` (in radians)    |\n",
        "| Absolute value ( \\|.\\| )       | `np.absolute(x)`  | Returns the absolute value of `x`             |\n",
        "| Convert degree to radian   | `np.deg2rad(x)`   | Converts angles from degrees to radians       |\n",
        "| Hyperbolic sine (sinh)     | `np.sinh(x)`      | Returns the hyperbolic sine of `x`            |\n",
        "| Hyperbolic cosine (cosh)   | `np.cosh(x)`      | Returns the hyperbolic cosine of `x`          |\n",
        "| Hyperbolic tangent (tanh)  | `np.tanh(x)`      | Returns the hyperbolic tangent of `x`         |\n",
        "| Inverse hyperbolic sine    | `np.arcsinh(x)`   | Returns the inverse hyperbolic sine of `x`    |\n",
        "| Inverse hyperbolic cosine  | `np.arccosh(x)`   | Returns the inverse hyperbolic cosine of `x`  |\n",
        "| Inverse hyperbolic tangent | `np.arctanh(x)`   | Returns the inverse hyperbolic tangent of `x` |\n"
      ]
    },
    {
      "cell_type": "code",
      "execution_count": null,
      "metadata": {
        "id": "eZKGWrVFSGGP",
        "colab": {
          "base_uri": "https://localhost:8080/"
        },
        "outputId": "b6cbce5d-a906-4b0f-d0ff-5a78d8b15145"
      },
      "outputs": [
        {
          "output_type": "execute_result",
          "data": {
            "text/plain": [
              "(0.9999999999782784, 0.3010299956639812)"
            ]
          },
          "metadata": {},
          "execution_count": 47
        }
      ],
      "source": [
        "np.log(2.7182818284), np.log10(2)"
      ]
    },
    {
      "cell_type": "code",
      "execution_count": null,
      "metadata": {
        "id": "WsTeTFEOSGGP",
        "colab": {
          "base_uri": "https://localhost:8080/"
        },
        "outputId": "f4b12196-1659-4d93-9243-fd06d9cddd18"
      },
      "outputs": [
        {
          "output_type": "execute_result",
          "data": {
            "text/plain": [
              "(2.718281828459045, 3.0, 101)"
            ]
          },
          "metadata": {},
          "execution_count": 13
        }
      ],
      "source": [
        "np.exp(1), np.sqrt(9), np.absolute(-101)"
      ]
    },
    {
      "cell_type": "code",
      "source": [
        "np.cos(np.pi/3), np.sin(np.pi/6),  np.tan(np.pi/4), np.tan(np.deg2rad(45))"
      ],
      "metadata": {
        "colab": {
          "base_uri": "https://localhost:8080/"
        },
        "id": "Fnu8AFQLId7p",
        "outputId": "9933d731-ddfd-4c92-ee5b-f5bd7efc79ce"
      },
      "execution_count": null,
      "outputs": [
        {
          "output_type": "execute_result",
          "data": {
            "text/plain": [
              "(0.5000000000000001,\n",
              " 0.49999999999999994,\n",
              " 0.9999999999999999,\n",
              " 0.9999999999999999)"
            ]
          },
          "metadata": {},
          "execution_count": 20
        }
      ]
    },
    {
      "cell_type": "code",
      "execution_count": null,
      "metadata": {
        "id": "yPZGDHNkSGGP",
        "colab": {
          "base_uri": "https://localhost:8080/"
        },
        "outputId": "9ed90dd8-3281-4441-c5c9-04f67c5b3d53"
      },
      "outputs": [
        {
          "output_type": "execute_result",
          "data": {
            "text/plain": [
              "(0.5, 0.5, 1.0, 1.0)"
            ]
          },
          "metadata": {},
          "execution_count": 22
        }
      ],
      "source": [
        "round(np.cos(np.pi/3),4), np.sin(np.pi/6).round(4),  np.round(np.tan(np.pi/4),4), np.tan(np.deg2rad(45)).round(4)"
      ]
    },
    {
      "cell_type": "code",
      "execution_count": null,
      "metadata": {
        "id": "AuL_Pal9SGGP",
        "colab": {
          "base_uri": "https://localhost:8080/"
        },
        "outputId": "b9f8d81d-d7ba-4f93-e9b9-9b63c4da8e18"
      },
      "outputs": [
        {
          "output_type": "execute_result",
          "data": {
            "text/plain": [
              "(60.00000000000001, 30.0, 45.0, 90.0)"
            ]
          },
          "metadata": {},
          "execution_count": 20
        }
      ],
      "source": [
        "np.rad2deg(np.arccos(.5)), np.rad2deg(np.arcsin(.5)).round(2), np.rad2deg(np.arctan(1)),np.rad2deg(np.pi/2)"
      ]
    },
    {
      "cell_type": "markdown",
      "metadata": {
        "id": "t_nqspfTSGGP"
      },
      "source": [
        "# 2D plots with Python\n",
        "\n",
        "Creating 2D plots in Python is a fundamental skill in data visualization, widely applicable in scientific research, engineering, economics, and various other fields. Leveraging the capabilities of the matplotlib.pyplot library, you can generate a broad range of static, animated, or interactive plots. The following table introduces the essential commands, combining simplicity with flexibility, to help you get started. By understanding and applying these basic lines of code, you can design complex plots that provide insight into your data, assisting in both analysis and communication. Whether you're interested in plotting simple line graphs, scatter plots, or more intricate 3D surfaces, matplotlib offers the tools to depict your data in a clear and compelling manner.\n",
        "\n",
        "| Essential Lines                                               | Description                                                                                          |\n",
        "|---------------------------------------------------------------|------------------------------------------------------------------------------------------------------|\n",
        "| `plt.plot(x, y, 'go--', linewidth=2, markersize=12)`          | Plots `y` versus `x` as green circles connected by dashed lines. `linewidth` and `markersize` can be adjusted.|\n",
        "| `plt.plot(x, y, color='green', marker='o', linestyle='dashed', linewidth=2, markersize=12)`| Alternative way to specify the color, marker style, line style, line width, and marker size.            |\n",
        "| `plt.plot()`                                                  | Basic plot command, allows for various customization options.                                      |\n",
        "| `plt.title(\"Title Here\")`                                     | Sets the title of the plot.                                                                          |\n",
        "| `plt.ylabel(\"Y-Axis Label\")`                                  | Sets the label for the y-axis.                                                                       |\n",
        "| `plt.xlabel(\"X-Axis Label\")`                                  | Sets the label for the x-axis.                                                                       |\n",
        "| `plt.show()`                                                  | Displays the plot. This line is generally used at the end to render the plot.                        |\n",
        "| `plt.legend(['Legend Entry'])`                                | Adds a legend to the plot. Labels can be passed in as a list to describe different lines or markers. |\n",
        "\n",
        "These commands provide a foundation for creating a wide variety of 2D plots, and can be combined and customized to suit specific needs and preferences.\n"
      ]
    },
    {
      "cell_type": "markdown",
      "source": [
        "## Importing `matplotlib`\n",
        "\n",
        "To get started with creating 2D plots using `matplotlib`, you first need to import the library and choose a style. The following lines of code import the `matplotlib.pyplot` module and set the grid style using the 'seaborn-whitegrid' theme, providing a clean and attractive background for your plots.\n",
        "\n",
        "\n",
        "\n"
      ],
      "metadata": {
        "id": "3ldyRwibLL2D"
      }
    },
    {
      "cell_type": "code",
      "source": [
        "import matplotlib.pyplot as plt"
      ],
      "metadata": {
        "id": "aDn_4YzZL-KS"
      },
      "execution_count": null,
      "outputs": []
    },
    {
      "cell_type": "markdown",
      "source": [
        "## Styling the Plot\n",
        "Using different styles allows you to customize the appearance of your plots to suit various aesthetics or to align with specific project themes. Experimenting with different styles can enhance the visual appeal of your visualizations, making them more engaging and informative for your audience.\n",
        "\n",
        "| Style Name          | Description                                         |\n",
        "|---------------------|-----------------------------------------------------|\n",
        "| 'classic'           | The classic Matplotlib style                        |\n",
        "| 'seaborn'           | The default seaborn style                           |\n",
        "| 'ggplot'            | Style similar to ggplot in R                        |\n",
        "| 'fivethirtyeight'   | Inspired by the plots on FiveThirtyEight.com        |\n",
        "| 'bmh'               | Bayesian Methods for Hackers style                  |\n",
        "| 'seaborn-whitegrid' | A seaborn style with a white grid                   |\n",
        "| 'dark_background'   | Dark background suitable for presentations          |\n",
        "| 'seaborn-darkgrid'  | A variation of the seaborn style with a dark grid   |\n",
        "| 'seaborn-poster'    | A seaborn style suitable for posters/presentations  |\n",
        "\n",
        "You can explore further by using the `plt.style.available` attribute.\n"
      ],
      "metadata": {
        "id": "QdGkhezTLyMV"
      }
    },
    {
      "cell_type": "code",
      "execution_count": null,
      "metadata": {
        "id": "0Lntbu5-SGGQ",
        "colab": {
          "base_uri": "https://localhost:8080/"
        },
        "outputId": "edf813e0-180c-4b78-b6ad-7dd40d636553"
      },
      "outputs": [
        {
          "output_type": "stream",
          "name": "stderr",
          "text": [
            "<ipython-input-49-b25725dbd5e4>:1: MatplotlibDeprecationWarning: The seaborn styles shipped by Matplotlib are deprecated since 3.6, as they no longer correspond to the styles shipped by seaborn. However, they will remain available as 'seaborn-v0_8-<style>'. Alternatively, directly use the seaborn API instead.\n",
            "  plt.style.use('seaborn-whitegrid') # white grid\n"
          ]
        }
      ],
      "source": [
        "plt.style.use('seaborn-whitegrid') # white grid"
      ]
    },
    {
      "cell_type": "markdown",
      "source": [
        "## Single Figure Plots\n",
        "In this example, we are plotting both the sine and cosine functions using the `numpy` and `matplotlib` libraries.\n",
        "\n",
        "1. **Sine Function Plotting:**\n",
        "   - `x = np.arange(0,2*np.pi,0.5)`: Creates an array of x-values ranging from 0 to \\(2\\pi\\), with a step of 0.5.\n",
        "   - `y = np.sin(x)`: Calculates the sine of the x-values.\n",
        "   - `plt.plot(x, y, 'go--', linewidth=3, markersize=12, label=' line-1 ')`: Plots the sine function with green dashed lines and circular markers.\n",
        "   - Labels, title, and legend are then added for the sine function plot.\n",
        "\n",
        "2. **Cosine Function Plotting:**\n",
        "   - `z = np.cos(x)`: Calculates the cosine of the x-values.\n",
        "   - `plt.plot(x, z, 'r-', linewidth=2, markersize=12, label=' line-2 ')`: Plots the cosine function with a red solid line.\n",
        "   - Labels, title, and legend are then added for the cosine function plot.\n"
      ],
      "metadata": {
        "id": "KhvqvTlBNmb3"
      }
    },
    {
      "cell_type": "code",
      "execution_count": null,
      "metadata": {
        "id": "jQIkI6l_SGGQ",
        "colab": {
          "base_uri": "https://localhost:8080/"
        },
        "outputId": "61d3d538-50ec-4511-8ced-9a98d48ead58"
      },
      "outputs": [
        {
          "output_type": "execute_result",
          "data": {
            "text/plain": [
              "array([0. , 0.5, 1. , 1.5, 2. , 2.5, 3. , 3.5, 4. , 4.5, 5. , 5.5, 6. ])"
            ]
          },
          "metadata": {},
          "execution_count": 50
        }
      ],
      "source": [
        "x = np.arange(0,2*np.pi,0.5)\n",
        "x"
      ]
    },
    {
      "cell_type": "code",
      "execution_count": null,
      "metadata": {
        "id": "H6VoxgF9SGGQ",
        "colab": {
          "base_uri": "https://localhost:8080/"
        },
        "outputId": "9cc4427a-3758-4317-cce3-6dff40c88c44"
      },
      "outputs": [
        {
          "output_type": "execute_result",
          "data": {
            "text/plain": [
              "array([ 0.        ,  0.47942554,  0.84147098,  0.99749499,  0.90929743,\n",
              "        0.59847214,  0.14112001, -0.35078323, -0.7568025 , -0.97753012,\n",
              "       -0.95892427, -0.70554033, -0.2794155 ])"
            ]
          },
          "metadata": {},
          "execution_count": 51
        }
      ],
      "source": [
        "y = np.sin(x)\n",
        "y"
      ]
    },
    {
      "cell_type": "code",
      "execution_count": null,
      "metadata": {
        "id": "wYNWf_z4SGGQ",
        "colab": {
          "base_uri": "https://localhost:8080/",
          "height": 482
        },
        "outputId": "1e180c0b-9a20-4247-e406-68f82b8c2e15"
      },
      "outputs": [
        {
          "output_type": "execute_result",
          "data": {
            "text/plain": [
              "<matplotlib.legend.Legend at 0x7e89d942b700>"
            ]
          },
          "metadata": {},
          "execution_count": 52
        },
        {
          "output_type": "display_data",
          "data": {
            "text/plain": [
              "<Figure size 640x480 with 1 Axes>"
            ],
            "image/png": "[encoded data removed]"
          },
          "metadata": {}
        }
      ],
      "source": [
        "plt.plot(x, y, 'go--', linewidth=3, markersize=12, label=' line-1 ')\n",
        "plt.title(\" Sin(x) \")\n",
        "plt.ylabel(\" y \")\n",
        "plt.xlabel(\" x \")\n",
        "plt.legend(['Sine Response'])"
      ]
    },
    {
      "cell_type": "code",
      "execution_count": null,
      "metadata": {
        "id": "--PBzSGeSGGQ"
      },
      "outputs": [],
      "source": [
        "z = np.cos(x)"
      ]
    },
    {
      "cell_type": "code",
      "execution_count": null,
      "metadata": {
        "id": "tTz1aniESGGQ",
        "colab": {
          "base_uri": "https://localhost:8080/",
          "height": 482
        },
        "outputId": "a4208b4c-8337-45c2-8d5a-4ad33611d889"
      },
      "outputs": [
        {
          "output_type": "execute_result",
          "data": {
            "text/plain": [
              "<matplotlib.legend.Legend at 0x7e89d7306f20>"
            ]
          },
          "metadata": {},
          "execution_count": 54
        },
        {
          "output_type": "display_data",
          "data": {
            "text/plain": [
              "<Figure size 640x480 with 1 Axes>"
            ],
            "image/png": "[encoded data removed]"
          },
          "metadata": {}
        }
      ],
      "source": [
        "plt.plot(x, z, 'r-', linewidth=2, label=' line-2 ')\n",
        "plt.title(\" Cos(x) \")\n",
        "plt.ylabel(\" y \")\n",
        "plt.xlabel(\" x \")\n",
        "plt.legend(['Cos Response'])"
      ]
    },
    {
      "cell_type": "markdown",
      "metadata": {
        "id": "3uDjm8rMSGGQ"
      },
      "source": [
        "## Multiple Figure Plots\n",
        "In this example, we are creating a single figure containing three plots: the sine function, the cosine function, and the sum of their squares. Here's what each line does:\n",
        "\n",
        "1. **Sine Function Plotting:**\n",
        "   - `plt.plot(x, y, 'g--', linewidth=2, markersize=12, label=' line-1 ')`: Plots the sine function (previously computed as `y`) with green dashed lines.\n",
        "\n",
        "2. **Cosine Function Plotting:**\n",
        "   - `plt.plot(x, z, 'r:', linewidth=2, markersize=12, label=' line-2 ')`: Plots the cosine function (previously computed as `z`) with red dotted lines.\n",
        "\n",
        "3. **Sum of Squares Plotting:**\n",
        "   - `plt.plot(x, y**2+z**2, 'mo', markersize=1, label=' line-3 ')`: Plots the sum of the squares of the sine and cosine functions with magenta circular markers of size 1.\n",
        "\n",
        "4. **Labels, Title, and Legend:**\n",
        "   - The `plt.title`, `plt.ylabel`, `plt.xlabel`, and `plt.legend` functions are used to add a title, y-axis label, x-axis label, and legend to the plot. The legend includes labels for all three lines.\n"
      ]
    },
    {
      "cell_type": "code",
      "execution_count": null,
      "metadata": {
        "id": "9r9B-FNWSGGQ",
        "colab": {
          "base_uri": "https://localhost:8080/",
          "height": 482
        },
        "outputId": "cc39ef26-2c63-4b3a-e892-ea0837166248"
      },
      "outputs": [
        {
          "output_type": "execute_result",
          "data": {
            "text/plain": [
              "<matplotlib.legend.Legend at 0x7e89d6e5da50>"
            ]
          },
          "metadata": {},
          "execution_count": 58
        },
        {
          "output_type": "display_data",
          "data": {
            "text/plain": [
              "<Figure size 640x480 with 1 Axes>"
            ],
            "image/png": "[encoded data removed]"
          },
          "metadata": {}
        }
      ],
      "source": [
        "plt.plot(x, y, 'g--', linewidth=2, markersize=12, label=' line-1 ')\n",
        "plt.plot(x, z, 'r:', linewidth=2, markersize=12, label=' line-2 ')\n",
        "plt.plot(x,y**2+z**2, 'mo', markersize=1, label=' line-3 ')\n",
        "plt.title(\" Sin^2(x) + Cos^2(x) \")\n",
        "plt.ylabel(\" values \")\n",
        "plt.xlabel(\" x \")\n",
        "plt.legend(['Sine Response','Cos Response', 'z^2+y^2'])\n",
        "# plt.legend()"
      ]
    },
    {
      "cell_type": "code",
      "source": [],
      "metadata": {
        "id": "AGsWNkevMzL9"
      },
      "execution_count": null,
      "outputs": []
    }
  ],
  "metadata": {
    "kernelspec": {
      "display_name": "Python 3 (ipykernel)",
      "language": "python",
      "name": "python3"
    },
    "language_info": {
      "codemirror_mode": {
        "name": "ipython",
        "version": 3
      },
      "file_extension": ".py",
      "mimetype": "text/x-python",
      "name": "python",
      "nbconvert_exporter": "python",
      "pygments_lexer": "ipython3",
      "version": "3.8.12"
    },
    "colab": {
      "provenance": [],
      "toc_visible": true,
      "include_colab_link": true
    }
  },
  "nbformat": 4,
  "nbformat_minor": 0
}